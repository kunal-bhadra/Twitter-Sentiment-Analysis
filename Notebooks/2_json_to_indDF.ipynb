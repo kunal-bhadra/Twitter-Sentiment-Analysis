{
 "cells": [
  {
   "cell_type": "markdown",
   "source": [
    "# 1. Importing Libraries and Data"
   ],
   "metadata": {}
  },
  {
   "cell_type": "markdown",
   "source": [
    "Requirements\r\n",
    "- dask\r\n",
    "- geopy"
   ],
   "metadata": {}
  },
  {
   "cell_type": "code",
   "execution_count": 2,
   "source": [
    "#importing libraries\r\n",
    "from geopy.geocoders import Nominatim\r\n",
    "import dask.bag as db\r\n",
    "import json"
   ],
   "outputs": [],
   "metadata": {}
  },
  {
   "cell_type": "code",
   "execution_count": 2,
   "source": [
    "#JSONL data paths\r\n",
    "mar27_20_path = \"C:\\Data Science\\Jupyter_Workspace\\Twitter_Sentiment\\Data\\March27_20\\Hydrated\\mar27_20_hydrated.jsonl\""
   ],
   "outputs": [],
   "metadata": {}
  },
  {
   "cell_type": "markdown",
   "source": [
    "# 2. Handling big JSON with Dask"
   ],
   "metadata": {}
  },
  {
   "cell_type": "code",
   "execution_count": 3,
   "source": [
    "mar27_dask = db.read_text(mar27_20_path).map(json.loads)"
   ],
   "outputs": [],
   "metadata": {}
  },
  {
   "cell_type": "code",
   "execution_count": 4,
   "source": [
    "#filtering for only data from India\r\n",
    "mar27_ind_dask = mar27_dask.filter(lambda tweet: tweet['place'] is not None and tweet['place']['country'] == 'India')"
   ],
   "outputs": [],
   "metadata": {}
  },
  {
   "cell_type": "code",
   "execution_count": 5,
   "source": [
    "test_arr = {'coordinates': None,\r\n",
    "  'place': {'id': '29ddac29937057a0',\r\n",
    "   'url': 'https://api.twitter.com/1.1/geo/id/29ddac29937057a0.json',\r\n",
    "   'place_type': 'city',\r\n",
    "   'name': 'Mangalore',\r\n",
    "   'full_name': 'Mangalore, India',\r\n",
    "   'country_code': 'IN',\r\n",
    "   'country': 'India',\r\n",
    "   'contained_within': [],\r\n",
    "   'bounding_box': {'type': 'Polygon',\r\n",
    "    'coordinates': [[[74.770712, 12.752933],\r\n",
    "      [75.014001, 12.752933],\r\n",
    "      [75.014001, 13.128654],\r\n",
    "      [74.770712, 13.128654]]]},\r\n",
    "   'attributes': {}},\r\n",
    "  'contributors': None}\r\n",
    "\r\n",
    "test_arr[\"place\"][\"bounding_box\"][\"coordinates\"][0][0]"
   ],
   "outputs": [
    {
     "output_type": "execute_result",
     "data": {
      "text/plain": [
       "[74.770712, 12.752933]"
      ]
     },
     "metadata": {},
     "execution_count": 5
    }
   ],
   "metadata": {}
  },
  {
   "cell_type": "code",
   "execution_count": 41,
   "source": [
    "#function to convert Dask to DataFrame\r\n",
    "def flatten(tweet):\r\n",
    "    return {\r\n",
    "        'id': tweet['id_str'],\r\n",
    "        'longitude': tweet['place']['bounding_box']['coordinates'][0][1][0],\r\n",
    "        'latitude': tweet['place']['bounding_box']['coordinates'][0][1][1],\r\n",
    "        'text': tweet['full_text']\r\n",
    "    }\r\n",
    "    \r\n",
    "mar27_ind_dask.map(flatten).take(1)"
   ],
   "outputs": [
    {
     "output_type": "execute_result",
     "data": {
      "text/plain": [
       "({'id': '1243420733230866433',\n",
       "  'longitude': 75.014001,\n",
       "  'latitude': 12.752933,\n",
       "  'text': '@bpcretmanglore provided in-house developed sanitiser at various places inside installation premises to take care of our “warriors” from CORONA spread #StayAwareStaySafe ....@BPCLRetail @BPCLimited @8singhi https://t.co/ICXGr2HVue'},)"
      ]
     },
     "metadata": {},
     "execution_count": 41
    }
   ],
   "metadata": {}
  },
  {
   "cell_type": "code",
   "execution_count": 42,
   "source": [
    "mar27_ind_df = mar27_ind_dask.map(flatten).to_dataframe()\r\n",
    "mar27_ind_df = mar27_ind_df.compute()\r\n",
    "mar27_ind_df.tail()"
   ],
   "outputs": [
    {
     "output_type": "execute_result",
     "data": {
      "text/html": [
       "<div>\n",
       "<style scoped>\n",
       "    .dataframe tbody tr th:only-of-type {\n",
       "        vertical-align: middle;\n",
       "    }\n",
       "\n",
       "    .dataframe tbody tr th {\n",
       "        vertical-align: top;\n",
       "    }\n",
       "\n",
       "    .dataframe thead th {\n",
       "        text-align: right;\n",
       "    }\n",
       "</style>\n",
       "<table border=\"1\" class=\"dataframe\">\n",
       "  <thead>\n",
       "    <tr style=\"text-align: right;\">\n",
       "      <th></th>\n",
       "      <th>id</th>\n",
       "      <th>longitude</th>\n",
       "      <th>latitude</th>\n",
       "      <th>text</th>\n",
       "    </tr>\n",
       "  </thead>\n",
       "  <tbody>\n",
       "    <tr>\n",
       "      <th>2879</th>\n",
       "      <td>1243813117110276096</td>\n",
       "      <td>81.110202</td>\n",
       "      <td>26.642291</td>\n",
       "      <td>Nice presentation on corona virus. Slightly lo...</td>\n",
       "    </tr>\n",
       "    <tr>\n",
       "      <th>2880</th>\n",
       "      <td>1243813157191086080</td>\n",
       "      <td>73.113183</td>\n",
       "      <td>18.986727</td>\n",
       "      <td>I swear we are fighting two pandemics; Corona ...</td>\n",
       "    </tr>\n",
       "    <tr>\n",
       "      <th>2881</th>\n",
       "      <td>1243813213319266304</td>\n",
       "      <td>77.347652</td>\n",
       "      <td>28.397657</td>\n",
       "      <td>#AskZee \\nGovt should not send labours to vill...</td>\n",
       "    </tr>\n",
       "    <tr>\n",
       "      <th>2882</th>\n",
       "      <td>1243813647085760512</td>\n",
       "      <td>77.786319</td>\n",
       "      <td>12.731936</td>\n",
       "      <td>@SridharAddepal1 @PawanKalyan Wow super ycp ha...</td>\n",
       "    </tr>\n",
       "    <tr>\n",
       "      <th>2883</th>\n",
       "      <td>1243813678484303872</td>\n",
       "      <td>73.280893</td>\n",
       "      <td>18.807586</td>\n",
       "      <td>Superb .. nice idea to do https://t.co/BQPxjbCPrL</td>\n",
       "    </tr>\n",
       "  </tbody>\n",
       "</table>\n",
       "</div>"
      ],
      "text/plain": [
       "                       id  longitude   latitude  \\\n",
       "2879  1243813117110276096  81.110202  26.642291   \n",
       "2880  1243813157191086080  73.113183  18.986727   \n",
       "2881  1243813213319266304  77.347652  28.397657   \n",
       "2882  1243813647085760512  77.786319  12.731936   \n",
       "2883  1243813678484303872  73.280893  18.807586   \n",
       "\n",
       "                                                   text  \n",
       "2879  Nice presentation on corona virus. Slightly lo...  \n",
       "2880  I swear we are fighting two pandemics; Corona ...  \n",
       "2881  #AskZee \\nGovt should not send labours to vill...  \n",
       "2882  @SridharAddepal1 @PawanKalyan Wow super ycp ha...  \n",
       "2883  Superb .. nice idea to do https://t.co/BQPxjbCPrL  "
      ]
     },
     "metadata": {},
     "execution_count": 42
    }
   ],
   "metadata": {}
  },
  {
   "cell_type": "markdown",
   "source": [
    "# 3. Geomapping Data with State"
   ],
   "metadata": {}
  },
  {
   "cell_type": "code",
   "execution_count": 43,
   "source": [
    "#initialising\r\n",
    "geolocator = Nominatim(user_agent=\"this is kunal\")"
   ],
   "outputs": [],
   "metadata": {}
  },
  {
   "cell_type": "code",
   "execution_count": 44,
   "source": [
    "# Latitude & Longitude input\r\n",
    "Latitude_test = \"12.752933\"\r\n",
    "Longitude_test = \"75.014001\"\r\n",
    "  \r\n",
    "location_test = geolocator.reverse(Latitude_test+\",\"+Longitude_test)"
   ],
   "outputs": [],
   "metadata": {}
  },
  {
   "cell_type": "code",
   "execution_count": 45,
   "source": [
    "location_test.raw"
   ],
   "outputs": [
    {
     "output_type": "execute_result",
     "data": {
      "text/plain": [
       "{'place_id': 127270795,\n",
       " 'licence': 'Data © OpenStreetMap contributors, ODbL 1.0. https://osm.org/copyright',\n",
       " 'osm_type': 'way',\n",
       " 'osm_id': 160307848,\n",
       " 'lat': '12.7514538',\n",
       " 'lon': '75.014541',\n",
       " 'display_name': 'Manjeswar Road, Kanyana, Bantwal taluk, Dakshina Kannada, Karnataka, 574279, India',\n",
       " 'address': {'road': 'Manjeswar Road',\n",
       "  'village': 'Kanyana',\n",
       "  'county': 'Bantwal taluk',\n",
       "  'state_district': 'Dakshina Kannada',\n",
       "  'state': 'Karnataka',\n",
       "  'postcode': '574279',\n",
       "  'country': 'India',\n",
       "  'country_code': 'in'},\n",
       " 'boundingbox': ['12.7443369', '12.7521015', '74.9943475', '75.0506924']}"
      ]
     },
     "metadata": {},
     "execution_count": 45
    }
   ],
   "metadata": {}
  },
  {
   "cell_type": "code",
   "execution_count": 49,
   "source": [
    "def getState(longitude, latitude):\r\n",
    "    geolocator = Nominatim(user_agent=\"this is kunal\")\r\n",
    "    location = geolocator.reverse(str(latitude) + \",\" + str(longitude))\r\n",
    "    if location is not None:\r\n",
    "        if 'state' in location.raw['address']:\r\n",
    "            state = location.raw['address']['state']\r\n",
    "            return state\r\n",
    "        else:\r\n",
    "            return None\r\n",
    "    else:\r\n",
    "        return None"
   ],
   "outputs": [],
   "metadata": {}
  },
  {
   "cell_type": "code",
   "execution_count": 50,
   "source": [
    "state = getState(74.770712, 12.752933)\r\n",
    "print(state)"
   ],
   "outputs": [
    {
     "output_type": "stream",
     "name": "stdout",
     "text": [
      "None\n"
     ]
    }
   ],
   "metadata": {}
  },
  {
   "cell_type": "code",
   "execution_count": 51,
   "source": [
    "mar27_ind_df[\"state\"] = mar27_ind_df.apply(lambda x : getState(x[\"longitude\"], x[\"latitude\"]), axis=1)"
   ],
   "outputs": [],
   "metadata": {}
  },
  {
   "cell_type": "code",
   "execution_count": 56,
   "source": [
    "mar27_ind_df.head(5)"
   ],
   "outputs": [
    {
     "output_type": "execute_result",
     "data": {
      "text/html": [
       "<div>\n",
       "<style scoped>\n",
       "    .dataframe tbody tr th:only-of-type {\n",
       "        vertical-align: middle;\n",
       "    }\n",
       "\n",
       "    .dataframe tbody tr th {\n",
       "        vertical-align: top;\n",
       "    }\n",
       "\n",
       "    .dataframe thead th {\n",
       "        text-align: right;\n",
       "    }\n",
       "</style>\n",
       "<table border=\"1\" class=\"dataframe\">\n",
       "  <thead>\n",
       "    <tr style=\"text-align: right;\">\n",
       "      <th></th>\n",
       "      <th>id</th>\n",
       "      <th>longitude</th>\n",
       "      <th>latitude</th>\n",
       "      <th>text</th>\n",
       "      <th>state</th>\n",
       "    </tr>\n",
       "  </thead>\n",
       "  <tbody>\n",
       "    <tr>\n",
       "      <th>0</th>\n",
       "      <td>1243420733230866433</td>\n",
       "      <td>75.014001</td>\n",
       "      <td>12.752933</td>\n",
       "      <td>@bpcretmanglore provided in-house developed sa...</td>\n",
       "      <td>Karnataka</td>\n",
       "    </tr>\n",
       "    <tr>\n",
       "      <th>1</th>\n",
       "      <td>1243421018070249474</td>\n",
       "      <td>77.786319</td>\n",
       "      <td>12.731936</td>\n",
       "      <td>Dear @narendramodi Pradhan sevak sir,\\nThese a...</td>\n",
       "      <td>Tamil Nadu</td>\n",
       "    </tr>\n",
       "    <tr>\n",
       "      <th>2</th>\n",
       "      <td>1243421048172769285</td>\n",
       "      <td>77.347652</td>\n",
       "      <td>28.397657</td>\n",
       "      <td>@angelmsilos Programmers are always on the wor...</td>\n",
       "      <td>Haryana</td>\n",
       "    </tr>\n",
       "    <tr>\n",
       "      <th>3</th>\n",
       "      <td>1243421121858244609</td>\n",
       "      <td>77.786319</td>\n",
       "      <td>12.731936</td>\n",
       "      <td>@mlayvpatil @mpbijapur @INCVijayapura @MBPatil...</td>\n",
       "      <td>Tamil Nadu</td>\n",
       "    </tr>\n",
       "    <tr>\n",
       "      <th>4</th>\n",
       "      <td>1243421081538408448</td>\n",
       "      <td>88.610027</td>\n",
       "      <td>22.269493</td>\n",
       "      <td>I have created one online form to collect thei...</td>\n",
       "      <td>West Bengal</td>\n",
       "    </tr>\n",
       "  </tbody>\n",
       "</table>\n",
       "</div>"
      ],
      "text/plain": [
       "                    id  longitude   latitude  \\\n",
       "0  1243420733230866433  75.014001  12.752933   \n",
       "1  1243421018070249474  77.786319  12.731936   \n",
       "2  1243421048172769285  77.347652  28.397657   \n",
       "3  1243421121858244609  77.786319  12.731936   \n",
       "4  1243421081538408448  88.610027  22.269493   \n",
       "\n",
       "                                                text        state  \n",
       "0  @bpcretmanglore provided in-house developed sa...    Karnataka  \n",
       "1  Dear @narendramodi Pradhan sevak sir,\\nThese a...   Tamil Nadu  \n",
       "2  @angelmsilos Programmers are always on the wor...      Haryana  \n",
       "3  @mlayvpatil @mpbijapur @INCVijayapura @MBPatil...   Tamil Nadu  \n",
       "4  I have created one online form to collect thei...  West Bengal  "
      ]
     },
     "metadata": {},
     "execution_count": 56
    }
   ],
   "metadata": {}
  },
  {
   "cell_type": "code",
   "execution_count": 58,
   "source": [
    "mar27_ind_df.state.isnull().sum()"
   ],
   "outputs": [
    {
     "output_type": "execute_result",
     "data": {
      "text/plain": [
       "141"
      ]
     },
     "metadata": {},
     "execution_count": 58
    }
   ],
   "metadata": {}
  },
  {
   "cell_type": "markdown",
   "source": [
    "We can see only about 5% of the total data did not have a State property associated with it, which is alright."
   ],
   "metadata": {}
  },
  {
   "cell_type": "code",
   "execution_count": 122,
   "source": [
    "mar27_ind_df.state.unique()"
   ],
   "outputs": [
    {
     "output_type": "execute_result",
     "data": {
      "text/plain": [
       "array(['Karnataka', 'Tamil Nadu', 'Haryana', 'West Bengal',\n",
       "       'Andhra Pradesh', 'Uttarakhand', 'Odisha', 'Maharashtra',\n",
       "       'Uttar Pradesh', 'Gujarat', 'Himachal Pradesh', 'Telangana',\n",
       "       'Bihar', 'Meghalaya', 'Chhattisgarh', 'Kerala', 'Rajasthan',\n",
       "       'Jharkhand', 'Madhya Pradesh', 'চট্টগ্রাম বিভাগ', 'Assam',\n",
       "       'রংপুর বিভাগ', 'Goa', 'වයඹ පළාත', 'Punjab', 'Jammu and Kashmir',\n",
       "       'Delhi', 'စစ်ကိုင်းတိုင်း (Sagaing)', 'Manipur', 'খুলনা বিভাগ',\n",
       "       'Arunachal Pradesh', 'Tripura', 'Puducherry', 'Chandigarh',\n",
       "       'সিলেট বিভাগ', 'Mizoram', 'བསམ་རྩེ་རྫོང་ཁག་', 'Nagaland',\n",
       "       'ချင်းပြည်နယ်', 'Dadra and Nagar Haveli and Daman and Diu'],\n",
       "      dtype=object)"
      ]
     },
     "metadata": {},
     "execution_count": 122
    }
   ],
   "metadata": {}
  },
  {
   "cell_type": "code",
   "execution_count": 61,
   "source": [
    "#removing all rows with no State values\r\n",
    "mar27_ind_df = mar27_ind_df[~mar27_ind_df['state'].isnull()]"
   ],
   "outputs": [],
   "metadata": {}
  },
  {
   "cell_type": "code",
   "execution_count": 62,
   "source": [
    "csv_path = \"C:\\Data Science\\Jupyter_Workspace\\Twitter_Sentiment\\Data\\March27_20\\Hydrated\\mar27_ind_df.csv\"\r\n",
    "mar27_ind_df.to_csv(csv_path, index=False)"
   ],
   "outputs": [],
   "metadata": {}
  },
  {
   "cell_type": "markdown",
   "source": [
    "# 4. Building the Pipeline to extract cleaned Indian DF from raw JSONL file"
   ],
   "metadata": {}
  },
  {
   "cell_type": "code",
   "execution_count": 3,
   "source": [
    "def getIndiaCSV(pathJSONL, pathCSV):\r\n",
    "    # 1.loading the big JSONL into DASK for parallelization\r\n",
    "    db_dask = db.read_text(pathJSONL).map(json.loads)\r\n",
    "    ind_dask = db_dask.filter(lambda tweet: tweet['place'] is not None and tweet['place']['country'] == 'India')\r\n",
    "    \r\n",
    "    #function to only convert relevant data into Dask DF\r\n",
    "    def flatten(tweet):\r\n",
    "        return {\r\n",
    "        'id': tweet['id_str'],\r\n",
    "        'longitude': tweet['place']['bounding_box']['coordinates'][0][1][0],\r\n",
    "        'latitude': tweet['place']['bounding_box']['coordinates'][0][1][1],\r\n",
    "        'text': tweet['full_text']\r\n",
    "        }\r\n",
    "        \r\n",
    "    ind_dask_df = ind_dask.map(flatten).to_dataframe()\r\n",
    "    ind_df = ind_dask_df.compute() #converting Dask DF to Pandas DF\r\n",
    "    \r\n",
    "    # 2.extracting State through coordinates\r\n",
    "    def getState(longitude, latitude):\r\n",
    "        geolocator = Nominatim(user_agent=\"this is kunal\")\r\n",
    "        location = geolocator.reverse(str(latitude) + \",\" + str(longitude), language='en')\r\n",
    "        if location is not None:\r\n",
    "            if 'state' in location.raw['address']:\r\n",
    "                state = location.raw['address']['state']\r\n",
    "                return state\r\n",
    "            else:\r\n",
    "                return None\r\n",
    "        else:\r\n",
    "            return None\r\n",
    "        \r\n",
    "    ind_df[\"state\"] = ind_df.apply(lambda x : getState(x[\"longitude\"], x[\"latitude\"]), axis=1)\r\n",
    "    \r\n",
    "    # 3.removing rows with null State values\r\n",
    "    ind_df_final = ind_df[~ind_df['state'].isnull()]\r\n",
    "    \r\n",
    "    #exporting the final DF to CSV file\r\n",
    "    ind_df_final.to_csv(pathCSV, index=False)"
   ],
   "outputs": [],
   "metadata": {}
  },
  {
   "cell_type": "code",
   "execution_count": 5,
   "source": [
    "#March 27, 2020\r\n",
    "mar27_path_JSONL = \"C:\\Data Science\\Jupyter_Workspace\\Twitter_Sentiment\\Data\\March27_20\\Hydrated\\\\mar27_20_hydrated.jsonl\"\r\n",
    "mar27_path_CSV = \"C:\\Data Science\\Jupyter_Workspace\\Twitter_Sentiment\\Data\\March27_20\\Hydrated\\\\mar27_ind_df.csv\"\r\n",
    "getIndiaCSV(mar27_path_JSONL, mar27_path_CSV)"
   ],
   "outputs": [],
   "metadata": {}
  },
  {
   "cell_type": "code",
   "execution_count": 4,
   "source": [
    "#March 27, 2020\r\n",
    "mar25_path_JSONL = \"C:\\Data Science\\Jupyter_Workspace\\Twitter_Sentiment\\Data\\March25_20\\Hydrated\\\\march25_20_hydrated.jsonl\"\r\n",
    "mar25_path_CSV = \"C:\\Data Science\\Jupyter_Workspace\\Twitter_Sentiment\\Data\\March25_20\\Hydrated\\\\mar25_ind_df.csv\"\r\n",
    "getIndiaCSV(mar25_path_JSONL, mar25_path_CSV)"
   ],
   "outputs": [],
   "metadata": {}
  },
  {
   "cell_type": "code",
   "execution_count": null,
   "source": [],
   "outputs": [],
   "metadata": {}
  }
 ],
 "metadata": {
  "orig_nbformat": 4,
  "language_info": {
   "name": "python",
   "version": "3.7.6",
   "mimetype": "text/x-python",
   "codemirror_mode": {
    "name": "ipython",
    "version": 3
   },
   "pygments_lexer": "ipython3",
   "nbconvert_exporter": "python",
   "file_extension": ".py"
  },
  "kernelspec": {
   "name": "python3",
   "display_name": "Python 3.7.6 64-bit ('base': conda)"
  },
  "interpreter": {
   "hash": "d65ed39dd581ebcf9df35782933087a7829422d005b2b32c58247ec95bc3be21"
  }
 },
 "nbformat": 4,
 "nbformat_minor": 2
}