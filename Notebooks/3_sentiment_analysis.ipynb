{
 "cells": [
  {
   "cell_type": "markdown",
   "source": [
    "# 1. Importing Libraries & Data Files"
   ],
   "metadata": {}
  },
  {
   "cell_type": "markdown",
   "source": [
    "Requirements\r\n",
    "- matplotlib\r\n",
    "- seaborn\r\n",
    "- bs4\r\n",
    "- textblob\r\n",
    "- nltk\r\n",
    "- sklearn\r\n",
    "- wordcloud\r\n",
    "- scipy\r\n",
    "- emoji\r\n",
    "- vaderSentiment"
   ],
   "metadata": {}
  },
  {
   "cell_type": "code",
   "execution_count": 2,
   "source": [
    "# utilities\r\n",
    "import re\r\n",
    "import numpy as np\r\n",
    "import pandas as pd\r\n",
    "import string\r\n",
    "\r\n",
    "# plotting\r\n",
    "import seaborn as sns\r\n",
    "import matplotlib.pyplot as plt\r\n",
    "\r\n",
    "# nltk and emoji\r\n",
    "import emoji\r\n",
    "import nltk\r\n",
    "nltk.download('stopwords')\r\n",
    "nltk.download('wordnet')\r\n",
    "from nltk.corpus import stopwords\r\n",
    "from nltk.stem import WordNetLemmatizer\r\n",
    "from nltk.tokenize import RegexpTokenizer\r\n",
    "\r\n",
    "# VADER and textblob for sentiment\r\n",
    "from vaderSentiment.vaderSentiment import SentimentIntensityAnalyzer\r\n",
    "from textblob import TextBlob\r\n",
    "\r\n",
    "# model building\r\n",
    "from scipy.special import softmax\r\n",
    "from transformers import AutoTokenizer, AutoModelForSequenceClassification"
   ],
   "outputs": [
    {
     "output_type": "stream",
     "name": "stderr",
     "text": [
      "[nltk_data] Downloading package stopwords to\n",
      "[nltk_data]     C:\\Users\\KIIT\\AppData\\Roaming\\nltk_data...\n",
      "[nltk_data]   Package stopwords is already up-to-date!\n",
      "[nltk_data] Downloading package wordnet to\n",
      "[nltk_data]     C:\\Users\\KIIT\\AppData\\Roaming\\nltk_data...\n",
      "[nltk_data]   Package wordnet is already up-to-date!\n"
     ]
    }
   ],
   "metadata": {}
  },
  {
   "cell_type": "code",
   "execution_count": 2,
   "source": [
    "#data viewing settings\r\n",
    "pd.set_option('display.max_rows', None)\r\n",
    "pd.set_option('display.max_columns', None)\r\n",
    "pd.set_option('display.width', None)\r\n",
    "pd.set_option('display.max_colwidth', None)"
   ],
   "outputs": [],
   "metadata": {}
  },
  {
   "cell_type": "code",
   "execution_count": 3,
   "source": [
    "#data file paths\r\n",
    "ind_mar_20_2020_path = \"C:\\Data Science\\Jupyter_Workspace\\Twitter_Sentiment\\Archive\\india_tweets_mar_27_2020.csv\""
   ],
   "outputs": [],
   "metadata": {}
  },
  {
   "cell_type": "code",
   "execution_count": 4,
   "source": [
    "#loading data into python\r\n",
    "ind_mar_20_2020_df = pd.read_csv(ind_mar_20_2020_path)"
   ],
   "outputs": [],
   "metadata": {}
  },
  {
   "cell_type": "markdown",
   "source": [
    "# 2. Data Visualization of Baseline Sentiments"
   ],
   "metadata": {}
  },
  {
   "cell_type": "code",
   "execution_count": 5,
   "source": [
    "ind_mar_20_2020_df.head(5)"
   ],
   "outputs": [
    {
     "output_type": "execute_result",
     "data": {
      "text/html": [
       "<div>\n",
       "<style scoped>\n",
       "    .dataframe tbody tr th:only-of-type {\n",
       "        vertical-align: middle;\n",
       "    }\n",
       "\n",
       "    .dataframe tbody tr th {\n",
       "        vertical-align: top;\n",
       "    }\n",
       "\n",
       "    .dataframe thead th {\n",
       "        text-align: right;\n",
       "    }\n",
       "</style>\n",
       "<table border=\"1\" class=\"dataframe\">\n",
       "  <thead>\n",
       "    <tr style=\"text-align: right;\">\n",
       "      <th></th>\n",
       "      <th>id</th>\n",
       "      <th>base</th>\n",
       "      <th>place</th>\n",
       "      <th>text</th>\n",
       "    </tr>\n",
       "  </thead>\n",
       "  <tbody>\n",
       "    <tr>\n",
       "      <th>0</th>\n",
       "      <td>1240727929065111553</td>\n",
       "      <td>0.000000</td>\n",
       "      <td>Jaipur, India</td>\n",
       "      <td>Insitute of Economics and Management studies: Corona virus Infection Impact ON INDIAN ECONOMY. https://t.co/mYxKb4MUKL</td>\n",
       "    </tr>\n",
       "    <tr>\n",
       "      <th>1</th>\n",
       "      <td>1240728214319714304</td>\n",
       "      <td>0.172222</td>\n",
       "      <td>Bengaluru South, India</td>\n",
       "      <td>Amidst the corona scare - let’s not forget to do what we love. Let’s work on all goals we had for the days our offices would shut down. #coffeebells #corona #staysafe #selfquarantine #ipad #ipadart #sketch #painting https://t.co/ekTpWHM67r</td>\n",
       "    </tr>\n",
       "    <tr>\n",
       "      <th>2</th>\n",
       "      <td>1240728335795159040</td>\n",
       "      <td>-0.078125</td>\n",
       "      <td>Bengaluru South, India</td>\n",
       "      <td>@NorbertElekes @SamKhan999 Italy reports 475 coronavirus deaths, the highest single-day death toll for any country. Italy’s total Corona virus cases hit 41,000. 😥😰😰😰\\nAlarming indeed...!!  Heart goes out to the people of Italy. 🍁💚\\n#CoronavirusOutbreak #CoronaVirusUpdates #coronavirus #Europe #Italy</td>\n",
       "    </tr>\n",
       "    <tr>\n",
       "      <th>3</th>\n",
       "      <td>1240728972335300608</td>\n",
       "      <td>0.000000</td>\n",
       "      <td>Bhopal, India</td>\n",
       "      <td>@BDUTT What about #Favipiravir #Remdesivir #Lopinavir &amp;amp; #Ritonavir ???\\n\\nhttps://t.co/Cw2Y31mOnY</td>\n",
       "    </tr>\n",
       "    <tr>\n",
       "      <th>4</th>\n",
       "      <td>1240729038584455170</td>\n",
       "      <td>0.283333</td>\n",
       "      <td>Ghaziabad, India</td>\n",
       "      <td>@ultrascanhumint anchored Marco Polo is half-busy.\\nIntelligent advisors with half boiled brains are crimi**lly exploiting Cameras[ since World tour is not materializing ], a Flag, in corona issue for ego promotion, a constant issue\\n\\nseminars, SARC videoconferencing prominently displayed 'World'</td>\n",
       "    </tr>\n",
       "  </tbody>\n",
       "</table>\n",
       "</div>"
      ],
      "text/plain": [
       "                    id      base                   place  \\\n",
       "0  1240727929065111553  0.000000           Jaipur, India   \n",
       "1  1240728214319714304  0.172222  Bengaluru South, India   \n",
       "2  1240728335795159040 -0.078125  Bengaluru South, India   \n",
       "3  1240728972335300608  0.000000           Bhopal, India   \n",
       "4  1240729038584455170  0.283333        Ghaziabad, India   \n",
       "\n",
       "                                                                                                                                                                                                                                                                                                           text  \n",
       "0                                                                                                                                                                                        Insitute of Economics and Management studies: Corona virus Infection Impact ON INDIAN ECONOMY. https://t.co/mYxKb4MUKL  \n",
       "1                                                               Amidst the corona scare - let’s not forget to do what we love. Let’s work on all goals we had for the days our offices would shut down. #coffeebells #corona #staysafe #selfquarantine #ipad #ipadart #sketch #painting https://t.co/ekTpWHM67r  \n",
       "2  @NorbertElekes @SamKhan999 Italy reports 475 coronavirus deaths, the highest single-day death toll for any country. Italy’s total Corona virus cases hit 41,000. 😥😰😰😰\\nAlarming indeed...!!  Heart goes out to the people of Italy. 🍁💚\\n#CoronavirusOutbreak #CoronaVirusUpdates #coronavirus #Europe #Italy  \n",
       "3                                                                                                                                                                                                         @BDUTT What about #Favipiravir #Remdesivir #Lopinavir &amp; #Ritonavir ???\\n\\nhttps://t.co/Cw2Y31mOnY  \n",
       "4    @ultrascanhumint anchored Marco Polo is half-busy.\\nIntelligent advisors with half boiled brains are crimi**lly exploiting Cameras[ since World tour is not materializing ], a Flag, in corona issue for ego promotion, a constant issue\\n\\nseminars, SARC videoconferencing prominently displayed 'World'  "
      ]
     },
     "metadata": {},
     "execution_count": 5
    }
   ],
   "metadata": {}
  },
  {
   "cell_type": "code",
   "execution_count": 6,
   "source": [
    "sns.set_style('dark')\r\n",
    "g = sns.displot(ind_mar_20_2020_df.base,kde=True)"
   ],
   "outputs": [
    {
     "output_type": "display_data",
     "data": {
      "image/png": "[encoded data removed]",
      "text/plain": [
       "<Figure size 360x360 with 1 Axes>"
      ]
     },
     "metadata": {}
    }
   ],
   "metadata": {}
  },
  {
   "cell_type": "code",
   "execution_count": 7,
   "source": [
    "sns.set_style('dark')\r\n",
    "g = sns.displot(ind_mar_25_2020_df.base,kde=True)"
   ],
   "outputs": [
    {
     "output_type": "display_data",
     "data": {
      "image/png": "[encoded data removed]",
      "text/plain": [
       "<Figure size 360x360 with 1 Axes>"
      ]
     },
     "metadata": {}
    }
   ],
   "metadata": {}
  },
  {
   "cell_type": "code",
   "execution_count": 8,
   "source": [
    "sns.set_style('dark')\r\n",
    "g = sns.displot(ind_mar_27_2020_df.base,kde=True)"
   ],
   "outputs": [
    {
     "output_type": "display_data",
     "data": {
      "image/png": "[encoded data removed]",
      "text/plain": [
       "<Figure size 360x360 with 1 Axes>"
      ]
     },
     "metadata": {}
    }
   ],
   "metadata": {}
  },
  {
   "cell_type": "markdown",
   "source": [
    "We can see that about half of the datapoints have the score of **0.0** or Neutral Sentiment. That is good to take as the baseline for our analysis, but we will try to improve this with a more fine-grained approach by applying recent breakthroughs in the domain of Sentiment Analysis."
   ],
   "metadata": {}
  },
  {
   "cell_type": "markdown",
   "source": [
    "# 3. Data Preprocessing"
   ],
   "metadata": {}
  },
  {
   "cell_type": "code",
   "execution_count": 9,
   "source": [
    "#before preprocessing\r\n",
    "ind_mar_20_2020_df.head()"
   ],
   "outputs": [
    {
     "output_type": "execute_result",
     "data": {
      "text/html": [
       "<div>\n",
       "<style scoped>\n",
       "    .dataframe tbody tr th:only-of-type {\n",
       "        vertical-align: middle;\n",
       "    }\n",
       "\n",
       "    .dataframe tbody tr th {\n",
       "        vertical-align: top;\n",
       "    }\n",
       "\n",
       "    .dataframe thead th {\n",
       "        text-align: right;\n",
       "    }\n",
       "</style>\n",
       "<table border=\"1\" class=\"dataframe\">\n",
       "  <thead>\n",
       "    <tr style=\"text-align: right;\">\n",
       "      <th></th>\n",
       "      <th>id</th>\n",
       "      <th>base</th>\n",
       "      <th>place</th>\n",
       "      <th>text</th>\n",
       "    </tr>\n",
       "  </thead>\n",
       "  <tbody>\n",
       "    <tr>\n",
       "      <th>0</th>\n",
       "      <td>1240727929065111553</td>\n",
       "      <td>0.000000</td>\n",
       "      <td>Jaipur, India</td>\n",
       "      <td>Insitute of Economics and Management studies: Corona virus Infection Impact ON INDIAN ECONOMY. https://t.co/mYxKb4MUKL</td>\n",
       "    </tr>\n",
       "    <tr>\n",
       "      <th>1</th>\n",
       "      <td>1240728214319714304</td>\n",
       "      <td>0.172222</td>\n",
       "      <td>Bengaluru South, India</td>\n",
       "      <td>Amidst the corona scare - let’s not forget to do what we love. Let’s work on all goals we had for the days our offices would shut down. #coffeebells #corona #staysafe #selfquarantine #ipad #ipadart #sketch #painting https://t.co/ekTpWHM67r</td>\n",
       "    </tr>\n",
       "    <tr>\n",
       "      <th>2</th>\n",
       "      <td>1240728335795159040</td>\n",
       "      <td>-0.078125</td>\n",
       "      <td>Bengaluru South, India</td>\n",
       "      <td>@NorbertElekes @SamKhan999 Italy reports 475 coronavirus deaths, the highest single-day death toll for any country. Italy’s total Corona virus cases hit 41,000. 😥😰😰😰\\nAlarming indeed...!!  Heart goes out to the people of Italy. 🍁💚\\n#CoronavirusOutbreak #CoronaVirusUpdates #coronavirus #Europe #Italy</td>\n",
       "    </tr>\n",
       "    <tr>\n",
       "      <th>3</th>\n",
       "      <td>1240728972335300608</td>\n",
       "      <td>0.000000</td>\n",
       "      <td>Bhopal, India</td>\n",
       "      <td>@BDUTT What about #Favipiravir #Remdesivir #Lopinavir &amp;amp; #Ritonavir ???\\n\\nhttps://t.co/Cw2Y31mOnY</td>\n",
       "    </tr>\n",
       "    <tr>\n",
       "      <th>4</th>\n",
       "      <td>1240729038584455170</td>\n",
       "      <td>0.283333</td>\n",
       "      <td>Ghaziabad, India</td>\n",
       "      <td>@ultrascanhumint anchored Marco Polo is half-busy.\\nIntelligent advisors with half boiled brains are crimi**lly exploiting Cameras[ since World tour is not materializing ], a Flag, in corona issue for ego promotion, a constant issue\\n\\nseminars, SARC videoconferencing prominently displayed 'World'</td>\n",
       "    </tr>\n",
       "  </tbody>\n",
       "</table>\n",
       "</div>"
      ],
      "text/plain": [
       "                    id      base                   place  \\\n",
       "0  1240727929065111553  0.000000           Jaipur, India   \n",
       "1  1240728214319714304  0.172222  Bengaluru South, India   \n",
       "2  1240728335795159040 -0.078125  Bengaluru South, India   \n",
       "3  1240728972335300608  0.000000           Bhopal, India   \n",
       "4  1240729038584455170  0.283333        Ghaziabad, India   \n",
       "\n",
       "                                                                                                                                                                                                                                                                                                           text  \n",
       "0                                                                                                                                                                                        Insitute of Economics and Management studies: Corona virus Infection Impact ON INDIAN ECONOMY. https://t.co/mYxKb4MUKL  \n",
       "1                                                               Amidst the corona scare - let’s not forget to do what we love. Let’s work on all goals we had for the days our offices would shut down. #coffeebells #corona #staysafe #selfquarantine #ipad #ipadart #sketch #painting https://t.co/ekTpWHM67r  \n",
       "2  @NorbertElekes @SamKhan999 Italy reports 475 coronavirus deaths, the highest single-day death toll for any country. Italy’s total Corona virus cases hit 41,000. 😥😰😰😰\\nAlarming indeed...!!  Heart goes out to the people of Italy. 🍁💚\\n#CoronavirusOutbreak #CoronaVirusUpdates #coronavirus #Europe #Italy  \n",
       "3                                                                                                                                                                                                         @BDUTT What about #Favipiravir #Remdesivir #Lopinavir &amp; #Ritonavir ???\\n\\nhttps://t.co/Cw2Y31mOnY  \n",
       "4    @ultrascanhumint anchored Marco Polo is half-busy.\\nIntelligent advisors with half boiled brains are crimi**lly exploiting Cameras[ since World tour is not materializing ], a Flag, in corona issue for ego promotion, a constant issue\\n\\nseminars, SARC videoconferencing prominently displayed 'World'  "
      ]
     },
     "metadata": {},
     "execution_count": 9
    }
   ],
   "metadata": {}
  },
  {
   "cell_type": "markdown",
   "source": [
    "## Building the Text Preprocessing pipelines for multiple libraries"
   ],
   "metadata": {}
  },
  {
   "cell_type": "code",
   "execution_count": 10,
   "source": [
    "#punctuations, stopwords, tokenizer, and lemmatizer\r\n",
    "english_punctuations = string.punctuation\r\n",
    "eng_stopwords = stopwords.words('english')\r\n",
    "covid_stopwords = ['’', 'corona', 'coronavirus', 'covid', 'covid19', 'covid-19', 'sarscov2', 'sars cov2', 'sars cov 2', 'covid_19', 'ncov', \r\n",
    "                    'ncov2019', '2019-ncov', 'pandemic', '2019ncov', 'quarantine', 'flatten the curve', 'flattening the curve', 'hand sanitizer', \r\n",
    "                    'lockdown', 'social distancing', 'work from home', 'working from home', 'ppe', 'n95', 'covidiots', 'herd immunity', \r\n",
    "                    'pneumonia', 'chinese virus', 'wuhan virus', 'kung flu', 'wearamask', 'wear a mask', 'vaccine', 'vaccines', 'corona vaccine', \r\n",
    "                    'corona vaccines', 'face shield', 'face shields', 'health worker', 'health workers', 'wash ur hands', 'wash your hands', \r\n",
    "                    'self isolating', 'lungs', 'fever', 'cough', 'virus', 'flu', 'wuhan', 'flattenthecurve', 'handsanitizer', 'socialdistancing', \r\n",
    "                    'workfromhome', 'workingfromhome', 'herdimmunity', 'chinesevirus', 'wuhanvirus', 'kungflu', 'coronavaccine', 'coronavaccines'\r\n",
    "                    'faceshield', 'faceshields', 'healthworker', 'healthworkers', 'washurhands', 'washyourhands', 'selfisolating']\r\n",
    "tokenizer = RegexpTokenizer(r'[\\w]+')\r\n",
    "lemmatizer = WordNetLemmatizer()"
   ],
   "outputs": [],
   "metadata": {}
  },
  {
   "cell_type": "code",
   "execution_count": 11,
   "source": [
    "def preprocess_for_textblob(tweet):\r\n",
    "    cleaned_text = tweet\r\n",
    "    cleaned_text = re.sub(r'RT[\\s]+', '', cleaned_text) #removing RT symbol for retweets\r\n",
    "    cleaned_text = cleaned_text.lower() #lowercasing all texts\r\n",
    "    cleaned_text = re.sub(r\"’\", \"'\", cleaned_text) #correcting the apostrophe symbol\r\n",
    "    cleaned_text = re.sub(r'#', '', cleaned_text) #removing the '#' symbol\r\n",
    "    cleaned_text = re.sub(r'@[a-z0-9]+', '', cleaned_text) #removing all @mentions\r\n",
    "    cleaned_text = re.sub(r'((www.[^s]+)|(https?://[^s]+))', ' ', cleaned_text) #removing URL links\r\n",
    "    cleaned_text = re.sub(r'[0-9]+', '', cleaned_text) #removing any numeric characters\r\n",
    "    cleaned_text = re.sub(r'(.)\\1+', r'\\1\\1', cleaned_text) #removing >1 repeating characters\r\n",
    "    cleaned_text = re.sub(' +', ' ', cleaned_text) #removing multiple whitespaces\r\n",
    "    \r\n",
    "    cleaned_text = emoji.demojize(cleaned_text) #converting emojis to their expressions\r\n",
    "    cleaned_text = cleaned_text.replace(\":\", \" \")\r\n",
    "    cleaned_text = ' '.join(cleaned_text.split())\r\n",
    "    \r\n",
    "    cleaned_text = \" \".join(word for word in cleaned_text.split() if word not in eng_stopwords) #remove english stopwords\r\n",
    "    cleaned_text = \" \".join(word for word in cleaned_text.split() if word not in covid_stopwords) #removing custom covid stopwords\r\n",
    "    cleaned_text = \"\".join(char for char in cleaned_text if char not in english_punctuations) #removing english punctuations\r\n",
    "    \r\n",
    "    #cleaned_text = tokenizer.tokenize(cleaned_text) #tokenizes the words | TextBlob takes strings, not tokens\r\n",
    "    cleaned_text = \" \".join([lemmatizer.lemmatize(word) for word in cleaned_text.split()]) #lematize without tokenizing\r\n",
    "    #cleaned_text = [lemmatizer.lemmatize(word) for word in cleaned_text] #lematize after tokenizing\r\n",
    "    return cleaned_text"
   ],
   "outputs": [],
   "metadata": {}
  },
  {
   "cell_type": "code",
   "execution_count": 12,
   "source": [
    "def preprocess_for_vader(tweet):\r\n",
    "    cleaned_text = tweet\r\n",
    "    cleaned_text = re.sub(r'RT @[\\w]*:', '', cleaned_text) #removing RT handles\r\n",
    "    cleaned_text = re.sub(r'@[\\w]*', '', cleaned_text) #removing all @mentions\r\n",
    "    cleaned_text = re.sub(r'((www.[^s]+)|(https?://[^s]+))', ' ', cleaned_text) #removing URL links\r\n",
    "    cleaned_text = np.core.defchararray.replace(cleaned_text, \"[^a-zA-Z#]\", \" \") #removing special characters, numbers and punctuations except #\r\n",
    "    \r\n",
    "    return cleaned_text"
   ],
   "outputs": [],
   "metadata": {}
  },
  {
   "cell_type": "code",
   "execution_count": 13,
   "source": [
    "#testing the textblob preprocessing function\r\n",
    "test_word = '@NorbertElekes @SamKhan999 Italy reports 475 coronavirus deaths, the highest single-day death toll for any country. Italy’s total Corona virus cases hit 41,000. 😁 😥😰😰😰\\nAlarming indeed...!! Heart goes out to the people of Italy. 🍁💚\\n#CoronavirusOutbreak #CoronaVirusUpdates #coronavirus #Europe #Italy'\r\n",
    "print(preprocess_for_textblob(test_word))"
   ],
   "outputs": [
    {
     "output_type": "stream",
     "name": "stdout",
     "text": [
      "italy report death highest singleday death toll country italy total case hit beamingfacewithsmilingeyes sadbutrelievedface anxiousfacewithsweat anxiousfacewithsweat alarming indeed heart go people italy mapleleaf greenheart coronavirusoutbreak coronavirusupdates europe italy\n"
     ]
    }
   ],
   "metadata": {}
  },
  {
   "cell_type": "code",
   "execution_count": 14,
   "source": [
    "test_word = '@NorbertElekes @SamKhan999 Italy reports 475 coronavirus deaths, the highest single-day death toll for any country. Italy’s total Corona virus cases hit 41,000. 😁 😥😰😰😰\\nAlarming indeed...!! Heart goes out to the people of Italy. 🍁💚\\n#CoronavirusOutbreak #CoronaVirusUpdates #coronavirus #Europe #Italy'\r\n",
    "print(preprocess_for_vader(test_word))"
   ],
   "outputs": [
    {
     "output_type": "stream",
     "name": "stdout",
     "text": [
      "  Italy reports 475 coronavirus deaths, the highest single-day death toll for any country. Italy’s total Corona virus cases hit 41,000. 😁 😥😰😰😰\n",
      "Alarming indeed...!! Heart goes out to the people of Italy. 🍁💚\n",
      "#CoronavirusOutbreak #CoronaVirusUpdates #coronavirus #Europe #Italy\n"
     ]
    }
   ],
   "metadata": {}
  },
  {
   "cell_type": "markdown",
   "source": [
    "## Preprocessing the available Datasets"
   ],
   "metadata": {}
  },
  {
   "cell_type": "code",
   "execution_count": 15,
   "source": [
    "#Preprocessing for TextBlob\r\n",
    "ind_mar_20_2020_df[\"blob_text\"] = ind_mar_20_2020_df[\"text\"].apply(lambda x: preprocess_for_textblob(x))\r\n",
    "ind_mar_20_2020_df.head(5)"
   ],
   "outputs": [
    {
     "output_type": "execute_result",
     "data": {
      "text/html": [
       "<div>\n",
       "<style scoped>\n",
       "    .dataframe tbody tr th:only-of-type {\n",
       "        vertical-align: middle;\n",
       "    }\n",
       "\n",
       "    .dataframe tbody tr th {\n",
       "        vertical-align: top;\n",
       "    }\n",
       "\n",
       "    .dataframe thead th {\n",
       "        text-align: right;\n",
       "    }\n",
       "</style>\n",
       "<table border=\"1\" class=\"dataframe\">\n",
       "  <thead>\n",
       "    <tr style=\"text-align: right;\">\n",
       "      <th></th>\n",
       "      <th>id</th>\n",
       "      <th>base</th>\n",
       "      <th>place</th>\n",
       "      <th>text</th>\n",
       "      <th>blob_text</th>\n",
       "    </tr>\n",
       "  </thead>\n",
       "  <tbody>\n",
       "    <tr>\n",
       "      <th>0</th>\n",
       "      <td>1240727929065111553</td>\n",
       "      <td>0.000000</td>\n",
       "      <td>Jaipur, India</td>\n",
       "      <td>Insitute of Economics and Management studies: Corona virus Infection Impact ON INDIAN ECONOMY. https://t.co/mYxKb4MUKL</td>\n",
       "      <td>insitute economics management study infection impact indian economy</td>\n",
       "    </tr>\n",
       "    <tr>\n",
       "      <th>1</th>\n",
       "      <td>1240728214319714304</td>\n",
       "      <td>0.172222</td>\n",
       "      <td>Bengaluru South, India</td>\n",
       "      <td>Amidst the corona scare - let’s not forget to do what we love. Let’s work on all goals we had for the days our offices would shut down. #coffeebells #corona #staysafe #selfquarantine #ipad #ipadart #sketch #painting https://t.co/ekTpWHM67r</td>\n",
       "      <td>amidst scare let forget love let work goal day office would shut down coffeebells staysafe selfquarantine ipad ipadart sketch painting</td>\n",
       "    </tr>\n",
       "    <tr>\n",
       "      <th>2</th>\n",
       "      <td>1240728335795159040</td>\n",
       "      <td>-0.078125</td>\n",
       "      <td>Bengaluru South, India</td>\n",
       "      <td>@NorbertElekes @SamKhan999 Italy reports 475 coronavirus deaths, the highest single-day death toll for any country. Italy’s total Corona virus cases hit 41,000. 😥😰😰😰\\nAlarming indeed...!!  Heart goes out to the people of Italy. 🍁💚\\n#CoronavirusOutbreak #CoronaVirusUpdates #coronavirus #Europe #Italy</td>\n",
       "      <td>italy report death highest singleday death toll country italy total case hit sadbutrelievedface anxiousfacewithsweat anxiousfacewithsweat alarming indeed heart go people italy mapleleaf greenheart coronavirusoutbreak coronavirusupdates europe italy</td>\n",
       "    </tr>\n",
       "    <tr>\n",
       "      <th>3</th>\n",
       "      <td>1240728972335300608</td>\n",
       "      <td>0.000000</td>\n",
       "      <td>Bhopal, India</td>\n",
       "      <td>@BDUTT What about #Favipiravir #Remdesivir #Lopinavir &amp;amp; #Ritonavir ???\\n\\nhttps://t.co/Cw2Y31mOnY</td>\n",
       "      <td>favipiravir remdesivir lopinavir amp ritonavir</td>\n",
       "    </tr>\n",
       "    <tr>\n",
       "      <th>4</th>\n",
       "      <td>1240729038584455170</td>\n",
       "      <td>0.283333</td>\n",
       "      <td>Ghaziabad, India</td>\n",
       "      <td>@ultrascanhumint anchored Marco Polo is half-busy.\\nIntelligent advisors with half boiled brains are crimi**lly exploiting Cameras[ since World tour is not materializing ], a Flag, in corona issue for ego promotion, a constant issue\\n\\nseminars, SARC videoconferencing prominently displayed 'World'</td>\n",
       "      <td>anchored marco polo halfbusy intelligent advisor half boiled brain crimilly exploiting camera since world tour materializing flag issue ego promotion constant issue seminar sarc videoconferencing prominently displayed world</td>\n",
       "    </tr>\n",
       "  </tbody>\n",
       "</table>\n",
       "</div>"
      ],
      "text/plain": [
       "                    id      base                   place  \\\n",
       "0  1240727929065111553  0.000000           Jaipur, India   \n",
       "1  1240728214319714304  0.172222  Bengaluru South, India   \n",
       "2  1240728335795159040 -0.078125  Bengaluru South, India   \n",
       "3  1240728972335300608  0.000000           Bhopal, India   \n",
       "4  1240729038584455170  0.283333        Ghaziabad, India   \n",
       "\n",
       "                                                                                                                                                                                                                                                                                                           text  \\\n",
       "0                                                                                                                                                                                        Insitute of Economics and Management studies: Corona virus Infection Impact ON INDIAN ECONOMY. https://t.co/mYxKb4MUKL   \n",
       "1                                                               Amidst the corona scare - let’s not forget to do what we love. Let’s work on all goals we had for the days our offices would shut down. #coffeebells #corona #staysafe #selfquarantine #ipad #ipadart #sketch #painting https://t.co/ekTpWHM67r   \n",
       "2  @NorbertElekes @SamKhan999 Italy reports 475 coronavirus deaths, the highest single-day death toll for any country. Italy’s total Corona virus cases hit 41,000. 😥😰😰😰\\nAlarming indeed...!!  Heart goes out to the people of Italy. 🍁💚\\n#CoronavirusOutbreak #CoronaVirusUpdates #coronavirus #Europe #Italy   \n",
       "3                                                                                                                                                                                                         @BDUTT What about #Favipiravir #Remdesivir #Lopinavir &amp; #Ritonavir ???\\n\\nhttps://t.co/Cw2Y31mOnY   \n",
       "4    @ultrascanhumint anchored Marco Polo is half-busy.\\nIntelligent advisors with half boiled brains are crimi**lly exploiting Cameras[ since World tour is not materializing ], a Flag, in corona issue for ego promotion, a constant issue\\n\\nseminars, SARC videoconferencing prominently displayed 'World'   \n",
       "\n",
       "                                                                                                                                                                                                                                                  blob_text  \n",
       "0                                                                                                                                                                                       insitute economics management study infection impact indian economy  \n",
       "1                                                                                                                    amidst scare let forget love let work goal day office would shut down coffeebells staysafe selfquarantine ipad ipadart sketch painting  \n",
       "2  italy report death highest singleday death toll country italy total case hit sadbutrelievedface anxiousfacewithsweat anxiousfacewithsweat alarming indeed heart go people italy mapleleaf greenheart coronavirusoutbreak coronavirusupdates europe italy  \n",
       "3                                                                                                                                                                                                            favipiravir remdesivir lopinavir amp ritonavir  \n",
       "4                           anchored marco polo halfbusy intelligent advisor half boiled brain crimilly exploiting camera since world tour materializing flag issue ego promotion constant issue seminar sarc videoconferencing prominently displayed world  "
      ]
     },
     "metadata": {},
     "execution_count": 15
    }
   ],
   "metadata": {}
  },
  {
   "cell_type": "code",
   "execution_count": 16,
   "source": [
    "ind_mar_20_2020_df[\"vader_text\"] = ind_mar_20_2020_df[\"text\"].apply(lambda x: preprocess_for_vader(x))\r\n",
    "ind_mar_20_2020_df.head(5)"
   ],
   "outputs": [
    {
     "output_type": "execute_result",
     "data": {
      "text/html": [
       "<div>\n",
       "<style scoped>\n",
       "    .dataframe tbody tr th:only-of-type {\n",
       "        vertical-align: middle;\n",
       "    }\n",
       "\n",
       "    .dataframe tbody tr th {\n",
       "        vertical-align: top;\n",
       "    }\n",
       "\n",
       "    .dataframe thead th {\n",
       "        text-align: right;\n",
       "    }\n",
       "</style>\n",
       "<table border=\"1\" class=\"dataframe\">\n",
       "  <thead>\n",
       "    <tr style=\"text-align: right;\">\n",
       "      <th></th>\n",
       "      <th>id</th>\n",
       "      <th>base</th>\n",
       "      <th>place</th>\n",
       "      <th>text</th>\n",
       "      <th>blob_text</th>\n",
       "      <th>vader_text</th>\n",
       "    </tr>\n",
       "  </thead>\n",
       "  <tbody>\n",
       "    <tr>\n",
       "      <th>0</th>\n",
       "      <td>1240727929065111553</td>\n",
       "      <td>0.000000</td>\n",
       "      <td>Jaipur, India</td>\n",
       "      <td>Insitute of Economics and Management studies: Corona virus Infection Impact ON INDIAN ECONOMY. https://t.co/mYxKb4MUKL</td>\n",
       "      <td>insitute economics management study infection impact indian economy</td>\n",
       "      <td>Insitute of Economics and Management studies: Corona virus Infection Impact ON INDIAN ECONOMY.</td>\n",
       "    </tr>\n",
       "    <tr>\n",
       "      <th>1</th>\n",
       "      <td>1240728214319714304</td>\n",
       "      <td>0.172222</td>\n",
       "      <td>Bengaluru South, India</td>\n",
       "      <td>Amidst the corona scare - let’s not forget to do what we love. Let’s work on all goals we had for the days our offices would shut down. #coffeebells #corona #staysafe #selfquarantine #ipad #ipadart #sketch #painting https://t.co/ekTpWHM67r</td>\n",
       "      <td>amidst scare let forget love let work goal day office would shut down coffeebells staysafe selfquarantine ipad ipadart sketch painting</td>\n",
       "      <td>Amidst the corona scare - let’s not forget to do what we love. Let’s work on all goals we had for the days our offices would shut down. #coffeebells #corona #staysafe #selfquarantine #ipad #ipadart #sketch #painting</td>\n",
       "    </tr>\n",
       "    <tr>\n",
       "      <th>2</th>\n",
       "      <td>1240728335795159040</td>\n",
       "      <td>-0.078125</td>\n",
       "      <td>Bengaluru South, India</td>\n",
       "      <td>@NorbertElekes @SamKhan999 Italy reports 475 coronavirus deaths, the highest single-day death toll for any country. Italy’s total Corona virus cases hit 41,000. 😥😰😰😰\\nAlarming indeed...!!  Heart goes out to the people of Italy. 🍁💚\\n#CoronavirusOutbreak #CoronaVirusUpdates #coronavirus #Europe #Italy</td>\n",
       "      <td>italy report death highest singleday death toll country italy total case hit sadbutrelievedface anxiousfacewithsweat anxiousfacewithsweat alarming indeed heart go people italy mapleleaf greenheart coronavirusoutbreak coronavirusupdates europe italy</td>\n",
       "      <td>Italy reports 475 coronavirus deaths, the highest single-day death toll for any country. Italy’s total Corona virus cases hit 41,000. 😥😰😰😰\\nAlarming indeed...!!  Heart goes out to the people of Italy. 🍁💚\\n#CoronavirusOutbreak #CoronaVirusUpdates #coronavirus #Europe #Italy</td>\n",
       "    </tr>\n",
       "    <tr>\n",
       "      <th>3</th>\n",
       "      <td>1240728972335300608</td>\n",
       "      <td>0.000000</td>\n",
       "      <td>Bhopal, India</td>\n",
       "      <td>@BDUTT What about #Favipiravir #Remdesivir #Lopinavir &amp;amp; #Ritonavir ???\\n\\nhttps://t.co/Cw2Y31mOnY</td>\n",
       "      <td>favipiravir remdesivir lopinavir amp ritonavir</td>\n",
       "      <td>What about #Favipiravir #Remdesivir #Lopinavir &amp;amp; #Ritonavir ???\\n\\n</td>\n",
       "    </tr>\n",
       "    <tr>\n",
       "      <th>4</th>\n",
       "      <td>1240729038584455170</td>\n",
       "      <td>0.283333</td>\n",
       "      <td>Ghaziabad, India</td>\n",
       "      <td>@ultrascanhumint anchored Marco Polo is half-busy.\\nIntelligent advisors with half boiled brains are crimi**lly exploiting Cameras[ since World tour is not materializing ], a Flag, in corona issue for ego promotion, a constant issue\\n\\nseminars, SARC videoconferencing prominently displayed 'World'</td>\n",
       "      <td>anchored marco polo halfbusy intelligent advisor half boiled brain crimilly exploiting camera since world tour materializing flag issue ego promotion constant issue seminar sarc videoconferencing prominently displayed world</td>\n",
       "      <td>anchored Marco Polo is half-busy.\\nIntelligent advisors with half boiled brains are crimi**lly exploiting Cameras[ since World tour is not materializing ], a Flag, in corona issue for ego promotion, a constant issue\\n\\nseminars, SARC videoconferencing prominently displayed 'World'</td>\n",
       "    </tr>\n",
       "  </tbody>\n",
       "</table>\n",
       "</div>"
      ],
      "text/plain": [
       "                    id      base                   place  \\\n",
       "0  1240727929065111553  0.000000           Jaipur, India   \n",
       "1  1240728214319714304  0.172222  Bengaluru South, India   \n",
       "2  1240728335795159040 -0.078125  Bengaluru South, India   \n",
       "3  1240728972335300608  0.000000           Bhopal, India   \n",
       "4  1240729038584455170  0.283333        Ghaziabad, India   \n",
       "\n",
       "                                                                                                                                                                                                                                                                                                           text  \\\n",
       "0                                                                                                                                                                                        Insitute of Economics and Management studies: Corona virus Infection Impact ON INDIAN ECONOMY. https://t.co/mYxKb4MUKL   \n",
       "1                                                               Amidst the corona scare - let’s not forget to do what we love. Let’s work on all goals we had for the days our offices would shut down. #coffeebells #corona #staysafe #selfquarantine #ipad #ipadart #sketch #painting https://t.co/ekTpWHM67r   \n",
       "2  @NorbertElekes @SamKhan999 Italy reports 475 coronavirus deaths, the highest single-day death toll for any country. Italy’s total Corona virus cases hit 41,000. 😥😰😰😰\\nAlarming indeed...!!  Heart goes out to the people of Italy. 🍁💚\\n#CoronavirusOutbreak #CoronaVirusUpdates #coronavirus #Europe #Italy   \n",
       "3                                                                                                                                                                                                         @BDUTT What about #Favipiravir #Remdesivir #Lopinavir &amp; #Ritonavir ???\\n\\nhttps://t.co/Cw2Y31mOnY   \n",
       "4    @ultrascanhumint anchored Marco Polo is half-busy.\\nIntelligent advisors with half boiled brains are crimi**lly exploiting Cameras[ since World tour is not materializing ], a Flag, in corona issue for ego promotion, a constant issue\\n\\nseminars, SARC videoconferencing prominently displayed 'World'   \n",
       "\n",
       "                                                                                                                                                                                                                                                  blob_text  \\\n",
       "0                                                                                                                                                                                       insitute economics management study infection impact indian economy   \n",
       "1                                                                                                                    amidst scare let forget love let work goal day office would shut down coffeebells staysafe selfquarantine ipad ipadart sketch painting   \n",
       "2  italy report death highest singleday death toll country italy total case hit sadbutrelievedface anxiousfacewithsweat anxiousfacewithsweat alarming indeed heart go people italy mapleleaf greenheart coronavirusoutbreak coronavirusupdates europe italy   \n",
       "3                                                                                                                                                                                                            favipiravir remdesivir lopinavir amp ritonavir   \n",
       "4                           anchored marco polo halfbusy intelligent advisor half boiled brain crimilly exploiting camera since world tour materializing flag issue ego promotion constant issue seminar sarc videoconferencing prominently displayed world   \n",
       "\n",
       "                                                                                                                                                                                                                                                                                   vader_text  \n",
       "0                                                                                                                                                                                            Insitute of Economics and Management studies: Corona virus Infection Impact ON INDIAN ECONOMY.    \n",
       "1                                                                   Amidst the corona scare - let’s not forget to do what we love. Let’s work on all goals we had for the days our offices would shut down. #coffeebells #corona #staysafe #selfquarantine #ipad #ipadart #sketch #painting    \n",
       "2           Italy reports 475 coronavirus deaths, the highest single-day death toll for any country. Italy’s total Corona virus cases hit 41,000. 😥😰😰😰\\nAlarming indeed...!!  Heart goes out to the people of Italy. 🍁💚\\n#CoronavirusOutbreak #CoronaVirusUpdates #coronavirus #Europe #Italy  \n",
       "3                                                                                                                                                                                                                    What about #Favipiravir #Remdesivir #Lopinavir &amp; #Ritonavir ???\\n\\n   \n",
       "4   anchored Marco Polo is half-busy.\\nIntelligent advisors with half boiled brains are crimi**lly exploiting Cameras[ since World tour is not materializing ], a Flag, in corona issue for ego promotion, a constant issue\\n\\nseminars, SARC videoconferencing prominently displayed 'World'  "
      ]
     },
     "metadata": {},
     "execution_count": 16
    }
   ],
   "metadata": {}
  },
  {
   "cell_type": "markdown",
   "source": [
    "# 4. Scoring the Sentiments"
   ],
   "metadata": {}
  },
  {
   "cell_type": "markdown",
   "source": [
    "## TextBlob"
   ],
   "metadata": {}
  },
  {
   "cell_type": "code",
   "execution_count": 17,
   "source": [
    "ind_mar_20_2020_df[\"blob_score\"] = ind_mar_20_2020_df[\"blob_text\"].apply(lambda x: TextBlob(x).sentiment.polarity)\r\n",
    "ind_mar_20_2020_df.head(5)"
   ],
   "outputs": [
    {
     "output_type": "execute_result",
     "data": {
      "text/html": [
       "<div>\n",
       "<style scoped>\n",
       "    .dataframe tbody tr th:only-of-type {\n",
       "        vertical-align: middle;\n",
       "    }\n",
       "\n",
       "    .dataframe tbody tr th {\n",
       "        vertical-align: top;\n",
       "    }\n",
       "\n",
       "    .dataframe thead th {\n",
       "        text-align: right;\n",
       "    }\n",
       "</style>\n",
       "<table border=\"1\" class=\"dataframe\">\n",
       "  <thead>\n",
       "    <tr style=\"text-align: right;\">\n",
       "      <th></th>\n",
       "      <th>id</th>\n",
       "      <th>base</th>\n",
       "      <th>place</th>\n",
       "      <th>text</th>\n",
       "      <th>blob_text</th>\n",
       "      <th>vader_text</th>\n",
       "      <th>blob_score</th>\n",
       "    </tr>\n",
       "  </thead>\n",
       "  <tbody>\n",
       "    <tr>\n",
       "      <th>0</th>\n",
       "      <td>1240727929065111553</td>\n",
       "      <td>0.000000</td>\n",
       "      <td>Jaipur, India</td>\n",
       "      <td>Insitute of Economics and Management studies: Corona virus Infection Impact ON INDIAN ECONOMY. https://t.co/mYxKb4MUKL</td>\n",
       "      <td>insitute economics management study infection impact indian economy</td>\n",
       "      <td>Insitute of Economics and Management studies: Corona virus Infection Impact ON INDIAN ECONOMY.</td>\n",
       "      <td>0.000000</td>\n",
       "    </tr>\n",
       "    <tr>\n",
       "      <th>1</th>\n",
       "      <td>1240728214319714304</td>\n",
       "      <td>0.172222</td>\n",
       "      <td>Bengaluru South, India</td>\n",
       "      <td>Amidst the corona scare - let’s not forget to do what we love. Let’s work on all goals we had for the days our offices would shut down. #coffeebells #corona #staysafe #selfquarantine #ipad #ipadart #sketch #painting https://t.co/ekTpWHM67r</td>\n",
       "      <td>amidst scare let forget love let work goal day office would shut down coffeebells staysafe selfquarantine ipad ipadart sketch painting</td>\n",
       "      <td>Amidst the corona scare - let’s not forget to do what we love. Let’s work on all goals we had for the days our offices would shut down. #coffeebells #corona #staysafe #selfquarantine #ipad #ipadart #sketch #painting</td>\n",
       "      <td>0.172222</td>\n",
       "    </tr>\n",
       "    <tr>\n",
       "      <th>2</th>\n",
       "      <td>1240728335795159040</td>\n",
       "      <td>-0.078125</td>\n",
       "      <td>Bengaluru South, India</td>\n",
       "      <td>@NorbertElekes @SamKhan999 Italy reports 475 coronavirus deaths, the highest single-day death toll for any country. Italy’s total Corona virus cases hit 41,000. 😥😰😰😰\\nAlarming indeed...!!  Heart goes out to the people of Italy. 🍁💚\\n#CoronavirusOutbreak #CoronaVirusUpdates #coronavirus #Europe #Italy</td>\n",
       "      <td>italy report death highest singleday death toll country italy total case hit sadbutrelievedface anxiousfacewithsweat anxiousfacewithsweat alarming indeed heart go people italy mapleleaf greenheart coronavirusoutbreak coronavirusupdates europe italy</td>\n",
       "      <td>Italy reports 475 coronavirus deaths, the highest single-day death toll for any country. Italy’s total Corona virus cases hit 41,000. 😥😰😰😰\\nAlarming indeed...!!  Heart goes out to the people of Italy. 🍁💚\\n#CoronavirusOutbreak #CoronaVirusUpdates #coronavirus #Europe #Italy</td>\n",
       "      <td>-0.050000</td>\n",
       "    </tr>\n",
       "    <tr>\n",
       "      <th>3</th>\n",
       "      <td>1240728972335300608</td>\n",
       "      <td>0.000000</td>\n",
       "      <td>Bhopal, India</td>\n",
       "      <td>@BDUTT What about #Favipiravir #Remdesivir #Lopinavir &amp;amp; #Ritonavir ???\\n\\nhttps://t.co/Cw2Y31mOnY</td>\n",
       "      <td>favipiravir remdesivir lopinavir amp ritonavir</td>\n",
       "      <td>What about #Favipiravir #Remdesivir #Lopinavir &amp;amp; #Ritonavir ???\\n\\n</td>\n",
       "      <td>0.000000</td>\n",
       "    </tr>\n",
       "    <tr>\n",
       "      <th>4</th>\n",
       "      <td>1240729038584455170</td>\n",
       "      <td>0.283333</td>\n",
       "      <td>Ghaziabad, India</td>\n",
       "      <td>@ultrascanhumint anchored Marco Polo is half-busy.\\nIntelligent advisors with half boiled brains are crimi**lly exploiting Cameras[ since World tour is not materializing ], a Flag, in corona issue for ego promotion, a constant issue\\n\\nseminars, SARC videoconferencing prominently displayed 'World'</td>\n",
       "      <td>anchored marco polo halfbusy intelligent advisor half boiled brain crimilly exploiting camera since world tour materializing flag issue ego promotion constant issue seminar sarc videoconferencing prominently displayed world</td>\n",
       "      <td>anchored Marco Polo is half-busy.\\nIntelligent advisors with half boiled brains are crimi**lly exploiting Cameras[ since World tour is not materializing ], a Flag, in corona issue for ego promotion, a constant issue\\n\\nseminars, SARC videoconferencing prominently displayed 'World'</td>\n",
       "      <td>0.283333</td>\n",
       "    </tr>\n",
       "  </tbody>\n",
       "</table>\n",
       "</div>"
      ],
      "text/plain": [
       "                    id      base                   place  \\\n",
       "0  1240727929065111553  0.000000           Jaipur, India   \n",
       "1  1240728214319714304  0.172222  Bengaluru South, India   \n",
       "2  1240728335795159040 -0.078125  Bengaluru South, India   \n",
       "3  1240728972335300608  0.000000           Bhopal, India   \n",
       "4  1240729038584455170  0.283333        Ghaziabad, India   \n",
       "\n",
       "                                                                                                                                                                                                                                                                                                           text  \\\n",
       "0                                                                                                                                                                                        Insitute of Economics and Management studies: Corona virus Infection Impact ON INDIAN ECONOMY. https://t.co/mYxKb4MUKL   \n",
       "1                                                               Amidst the corona scare - let’s not forget to do what we love. Let’s work on all goals we had for the days our offices would shut down. #coffeebells #corona #staysafe #selfquarantine #ipad #ipadart #sketch #painting https://t.co/ekTpWHM67r   \n",
       "2  @NorbertElekes @SamKhan999 Italy reports 475 coronavirus deaths, the highest single-day death toll for any country. Italy’s total Corona virus cases hit 41,000. 😥😰😰😰\\nAlarming indeed...!!  Heart goes out to the people of Italy. 🍁💚\\n#CoronavirusOutbreak #CoronaVirusUpdates #coronavirus #Europe #Italy   \n",
       "3                                                                                                                                                                                                         @BDUTT What about #Favipiravir #Remdesivir #Lopinavir &amp; #Ritonavir ???\\n\\nhttps://t.co/Cw2Y31mOnY   \n",
       "4    @ultrascanhumint anchored Marco Polo is half-busy.\\nIntelligent advisors with half boiled brains are crimi**lly exploiting Cameras[ since World tour is not materializing ], a Flag, in corona issue for ego promotion, a constant issue\\n\\nseminars, SARC videoconferencing prominently displayed 'World'   \n",
       "\n",
       "                                                                                                                                                                                                                                                  blob_text  \\\n",
       "0                                                                                                                                                                                       insitute economics management study infection impact indian economy   \n",
       "1                                                                                                                    amidst scare let forget love let work goal day office would shut down coffeebells staysafe selfquarantine ipad ipadart sketch painting   \n",
       "2  italy report death highest singleday death toll country italy total case hit sadbutrelievedface anxiousfacewithsweat anxiousfacewithsweat alarming indeed heart go people italy mapleleaf greenheart coronavirusoutbreak coronavirusupdates europe italy   \n",
       "3                                                                                                                                                                                                            favipiravir remdesivir lopinavir amp ritonavir   \n",
       "4                           anchored marco polo halfbusy intelligent advisor half boiled brain crimilly exploiting camera since world tour materializing flag issue ego promotion constant issue seminar sarc videoconferencing prominently displayed world   \n",
       "\n",
       "                                                                                                                                                                                                                                                                                   vader_text  \\\n",
       "0                                                                                                                                                                                            Insitute of Economics and Management studies: Corona virus Infection Impact ON INDIAN ECONOMY.     \n",
       "1                                                                   Amidst the corona scare - let’s not forget to do what we love. Let’s work on all goals we had for the days our offices would shut down. #coffeebells #corona #staysafe #selfquarantine #ipad #ipadart #sketch #painting     \n",
       "2           Italy reports 475 coronavirus deaths, the highest single-day death toll for any country. Italy’s total Corona virus cases hit 41,000. 😥😰😰😰\\nAlarming indeed...!!  Heart goes out to the people of Italy. 🍁💚\\n#CoronavirusOutbreak #CoronaVirusUpdates #coronavirus #Europe #Italy   \n",
       "3                                                                                                                                                                                                                    What about #Favipiravir #Remdesivir #Lopinavir &amp; #Ritonavir ???\\n\\n    \n",
       "4   anchored Marco Polo is half-busy.\\nIntelligent advisors with half boiled brains are crimi**lly exploiting Cameras[ since World tour is not materializing ], a Flag, in corona issue for ego promotion, a constant issue\\n\\nseminars, SARC videoconferencing prominently displayed 'World'   \n",
       "\n",
       "   blob_score  \n",
       "0    0.000000  \n",
       "1    0.172222  \n",
       "2   -0.050000  \n",
       "3    0.000000  \n",
       "4    0.283333  "
      ]
     },
     "metadata": {},
     "execution_count": 17
    }
   ],
   "metadata": {}
  },
  {
   "cell_type": "markdown",
   "source": [
    "## VADER"
   ],
   "metadata": {}
  },
  {
   "cell_type": "code",
   "execution_count": 18,
   "source": [
    "#initializing and testing\r\n",
    "test_word = '@NorbertElekes @SamKhan999 Italy reports 475 coronavirus deaths, the highest single-day death toll for any country. Italy’s total Corona virus cases hit 41,000. 😁 😥😰😰😰\\nAlarming indeed...!! Heart goes out to the people of Italy. 🍁💚\\n#CoronavirusOutbreak #CoronaVirusUpdates #coronavirus #Europe #Italy'\r\n",
    "analyser = SentimentIntensityAnalyzer()\r\n",
    "analyser.polarity_scores(test_word)"
   ],
   "outputs": [
    {
     "output_type": "execute_result",
     "data": {
      "text/plain": [
       "{'neg': 0.165, 'neu': 0.624, 'pos': 0.211, 'compound': 0.8331}"
      ]
     },
     "metadata": {},
     "execution_count": 18
    }
   ],
   "metadata": {}
  },
  {
   "cell_type": "code",
   "execution_count": 19,
   "source": [
    "ind_mar_20_2020_df[\"vader_score\"] = ind_mar_20_2020_df[\"vader_text\"].apply(lambda x: analyser.polarity_scores(x)[\"compound\"])\r\n",
    "ind_mar_20_2020_df.tail(5)"
   ],
   "outputs": [
    {
     "output_type": "execute_result",
     "data": {
      "text/html": [
       "<div>\n",
       "<style scoped>\n",
       "    .dataframe tbody tr th:only-of-type {\n",
       "        vertical-align: middle;\n",
       "    }\n",
       "\n",
       "    .dataframe tbody tr th {\n",
       "        vertical-align: top;\n",
       "    }\n",
       "\n",
       "    .dataframe thead th {\n",
       "        text-align: right;\n",
       "    }\n",
       "</style>\n",
       "<table border=\"1\" class=\"dataframe\">\n",
       "  <thead>\n",
       "    <tr style=\"text-align: right;\">\n",
       "      <th></th>\n",
       "      <th>id</th>\n",
       "      <th>base</th>\n",
       "      <th>place</th>\n",
       "      <th>text</th>\n",
       "      <th>blob_text</th>\n",
       "      <th>vader_text</th>\n",
       "      <th>blob_score</th>\n",
       "      <th>vader_score</th>\n",
       "    </tr>\n",
       "  </thead>\n",
       "  <tbody>\n",
       "    <tr>\n",
       "      <th>2358</th>\n",
       "      <td>1241155268144029696</td>\n",
       "      <td>0.500000</td>\n",
       "      <td>Vishakhapatnam, India</td>\n",
       "      <td>@pmo @narendramodi  @DPE_GoI @heindustry @SteelMinIndia @SAILsteel  How to stop Corona virus, can't be with  circular of DPE &amp;amp; DoPT, Reducing the contacts between humans is the key.There are many organisations who can be asked to work from home irrespective of executive/non exec. https://t.co/jUWFohJLmR</td>\n",
       "      <td>goi stop virus cant circular dpe amp dopt reducing contact human keythere many organisation asked work home irrespective executivenon exec</td>\n",
       "      <td>How to stop Corona virus, can't be with  circular of DPE &amp;amp; DoPT, Reducing the contacts between humans is the key.There are many organisations who can be asked to work from home irrespective of executive/non exec.</td>\n",
       "      <td>0.250000</td>\n",
       "      <td>-0.2960</td>\n",
       "    </tr>\n",
       "    <tr>\n",
       "      <th>2359</th>\n",
       "      <td>1241155407231344640</td>\n",
       "      <td>0.000000</td>\n",
       "      <td>Haora, India</td>\n",
       "      <td>#IndiaFightsCorona\\nSankalp and Sanyam needed to combat Corona\\nvia NaMo App https://t.co/s6fIzZpN8s</td>\n",
       "      <td>indiafightscorona sankalp sanyam needed combat via namo app sfizzpns</td>\n",
       "      <td>#IndiaFightsCorona\\nSankalp and Sanyam needed to combat Corona\\nvia NaMo App  s6fIzZpN8s</td>\n",
       "      <td>0.000000</td>\n",
       "      <td>-0.3400</td>\n",
       "    </tr>\n",
       "    <tr>\n",
       "      <th>2360</th>\n",
       "      <td>1241155465465098240</td>\n",
       "      <td>0.500000</td>\n",
       "      <td>Vishakhapatnam, India</td>\n",
       "      <td>@PMOIndia @RINL_VSP @narendramodi @pmo @narendramodi  @DPE_GoI @heindustry   How to stop Corona virus, can't be with  circular of DPE &amp;amp; DoPT, Reducing the contacts between humans is the key.There are many organisations who can be asked to work from home irrespective of executive/non exec. https://t.co/QsDFcacuz7</td>\n",
       "      <td>vsp goi stop virus cant circular dpe amp dopt reducing contact human keythere many organisation asked work home irrespective executivenon exec sdfcacuz</td>\n",
       "      <td>How to stop Corona virus, can't be with  circular of DPE &amp;amp; DoPT, Reducing the contacts between humans is the key.There are many organisations who can be asked to work from home irrespective of executive/non exec.  sDFcacuz7</td>\n",
       "      <td>0.250000</td>\n",
       "      <td>-0.2960</td>\n",
       "    </tr>\n",
       "    <tr>\n",
       "      <th>2361</th>\n",
       "      <td>1241155681303945216</td>\n",
       "      <td>-0.125000</td>\n",
       "      <td>Faridabad, India</td>\n",
       "      <td>U act &amp;amp; write as u r law unto yourself , like all other who r working for the country , Parliamentarians need to work &amp;amp; earn , they have to lead by example but mayopic  person like u won’t understand that https://t.co/WVXMQdSduq</td>\n",
       "      <td>u act amp write u r law unto like r working country parliamentarian need work amp earn lead example mayopic person like u understand sduq</td>\n",
       "      <td>U act &amp;amp; write as u r law unto yourself , like all other who r working for the country , Parliamentarians need to work &amp;amp; earn , they have to lead by example but mayopic  person like u won’t understand that</td>\n",
       "      <td>0.000000</td>\n",
       "      <td>0.6124</td>\n",
       "    </tr>\n",
       "    <tr>\n",
       "      <th>2362</th>\n",
       "      <td>1241156162885582849</td>\n",
       "      <td>0.105952</td>\n",
       "      <td>Faridabad, India</td>\n",
       "      <td>U r right this lady is nuts &amp;amp; crazy thinks she is the Big B of media infact she is Chirkut who only sensationalises need to remain in lime light &amp;amp; keeps tweeting controversial statements https://t.co/O8AK2u5K3E</td>\n",
       "      <td>u r right lady nut amp crazy think big b medium infact chirkut sensationalises need remain lime light amp keep tweeting controversial statement</td>\n",
       "      <td>U r right this lady is nuts &amp;amp; crazy thinks she is the Big B of media infact she is Chirkut who only sensationalises need to remain in lime light &amp;amp; keeps tweeting controversial statements</td>\n",
       "      <td>0.127143</td>\n",
       "      <td>-0.6705</td>\n",
       "    </tr>\n",
       "  </tbody>\n",
       "</table>\n",
       "</div>"
      ],
      "text/plain": [
       "                       id      base                  place  \\\n",
       "2358  1241155268144029696  0.500000  Vishakhapatnam, India   \n",
       "2359  1241155407231344640  0.000000           Haora, India   \n",
       "2360  1241155465465098240  0.500000  Vishakhapatnam, India   \n",
       "2361  1241155681303945216 -0.125000       Faridabad, India   \n",
       "2362  1241156162885582849  0.105952       Faridabad, India   \n",
       "\n",
       "                                                                                                                                                                                                                                                                                                                               text  \\\n",
       "2358           @pmo @narendramodi  @DPE_GoI @heindustry @SteelMinIndia @SAILsteel  How to stop Corona virus, can't be with  circular of DPE &amp; DoPT, Reducing the contacts between humans is the key.There are many organisations who can be asked to work from home irrespective of executive/non exec. https://t.co/jUWFohJLmR   \n",
       "2359                                                                                                                                                                                                                           #IndiaFightsCorona\\nSankalp and Sanyam needed to combat Corona\\nvia NaMo App https://t.co/s6fIzZpN8s   \n",
       "2360  @PMOIndia @RINL_VSP @narendramodi @pmo @narendramodi  @DPE_GoI @heindustry   How to stop Corona virus, can't be with  circular of DPE &amp; DoPT, Reducing the contacts between humans is the key.There are many organisations who can be asked to work from home irrespective of executive/non exec. https://t.co/QsDFcacuz7   \n",
       "2361                                                                                   U act &amp; write as u r law unto yourself , like all other who r working for the country , Parliamentarians need to work &amp; earn , they have to lead by example but mayopic  person like u won’t understand that https://t.co/WVXMQdSduq   \n",
       "2362                                                                                                     U r right this lady is nuts &amp; crazy thinks she is the Big B of media infact she is Chirkut who only sensationalises need to remain in lime light &amp; keeps tweeting controversial statements https://t.co/O8AK2u5K3E   \n",
       "\n",
       "                                                                                                                                                    blob_text  \\\n",
       "2358               goi stop virus cant circular dpe amp dopt reducing contact human keythere many organisation asked work home irrespective executivenon exec   \n",
       "2359                                                                                     indiafightscorona sankalp sanyam needed combat via namo app sfizzpns   \n",
       "2360  vsp goi stop virus cant circular dpe amp dopt reducing contact human keythere many organisation asked work home irrespective executivenon exec sdfcacuz   \n",
       "2361                u act amp write u r law unto like r working country parliamentarian need work amp earn lead example mayopic person like u understand sduq   \n",
       "2362          u r right lady nut amp crazy think big b medium infact chirkut sensationalises need remain lime light amp keep tweeting controversial statement   \n",
       "\n",
       "                                                                                                                                                                                                                                         vader_text  \\\n",
       "2358                     How to stop Corona virus, can't be with  circular of DPE &amp; DoPT, Reducing the contacts between humans is the key.There are many organisations who can be asked to work from home irrespective of executive/non exec.     \n",
       "2359                                                                                                                                                       #IndiaFightsCorona\\nSankalp and Sanyam needed to combat Corona\\nvia NaMo App  s6fIzZpN8s   \n",
       "2360            How to stop Corona virus, can't be with  circular of DPE &amp; DoPT, Reducing the contacts between humans is the key.There are many organisations who can be asked to work from home irrespective of executive/non exec.  sDFcacuz7   \n",
       "2361                         U act &amp; write as u r law unto yourself , like all other who r working for the country , Parliamentarians need to work &amp; earn , they have to lead by example but mayopic  person like u won’t understand that     \n",
       "2362                                           U r right this lady is nuts &amp; crazy thinks she is the Big B of media infact she is Chirkut who only sensationalises need to remain in lime light &amp; keeps tweeting controversial statements     \n",
       "\n",
       "      blob_score  vader_score  \n",
       "2358    0.250000      -0.2960  \n",
       "2359    0.000000      -0.3400  \n",
       "2360    0.250000      -0.2960  \n",
       "2361    0.000000       0.6124  \n",
       "2362    0.127143      -0.6705  "
      ]
     },
     "metadata": {},
     "execution_count": 19
    }
   ],
   "metadata": {}
  },
  {
   "cell_type": "markdown",
   "source": [
    "## Visualizing Sentiment Scores from TextBlob and VADER"
   ],
   "metadata": {}
  },
  {
   "cell_type": "code",
   "execution_count": 20,
   "source": [
    "sns.set(style=\"darkgrid\")\r\n",
    "sns.histplot(data=ind_mar_20_2020_df, x=\"blob_score\", color=\"red\", label=\"TextBlob\", kde=True)\r\n",
    "sns.histplot(data=ind_mar_20_2020_df, x=\"vader_score\", color=\"orange\", label=\"VADER\", kde=True)\r\n",
    "\r\n",
    "plt.legend() \r\n",
    "plt.show()\r\n"
   ],
   "outputs": [
    {
     "output_type": "display_data",
     "data": {
      "image/png": "[encoded data removed]",
      "text/plain": [
       "<Figure size 432x288 with 1 Axes>"
      ]
     },
     "metadata": {}
    }
   ],
   "metadata": {}
  },
  {
   "cell_type": "markdown",
   "source": [
    "## Experimenting and training on HuggingFace transformers for fetching user's tweet and show score demo"
   ],
   "metadata": {}
  },
  {
   "cell_type": "code",
   "execution_count": 21,
   "source": [
    "!pip install torch==1.9.1+cu111 torchvision==0.10.1+cu111 torchaudio===0.9.1 -f https://download.pytorch.org/whl/torch_stable.html\r\n",
    "!pip install transformers"
   ],
   "outputs": [
    {
     "output_type": "stream",
     "name": "stdout",
     "text": [
      "Looking in links: https://download.pytorch.org/whl/torch_stable.html\n",
      "Requirement already satisfied: torch==1.9.1+cu111 in c:\\users\\kiit\\miniconda3\\lib\\site-packages (1.9.1+cu111)\n",
      "Requirement already satisfied: torchvision==0.10.1+cu111 in c:\\users\\kiit\\miniconda3\\lib\\site-packages (0.10.1+cu111)\n",
      "Requirement already satisfied: torchaudio===0.9.1 in c:\\users\\kiit\\miniconda3\\lib\\site-packages (0.9.1)\n",
      "Requirement already satisfied: typing-extensions in c:\\users\\kiit\\miniconda3\\lib\\site-packages (from torch==1.9.1+cu111) (3.10.0.0)\n",
      "Requirement already satisfied: numpy in c:\\users\\kiit\\miniconda3\\lib\\site-packages (from torchvision==0.10.1+cu111) (1.21.0)\n",
      "Requirement already satisfied: pillow>=5.3.0 in c:\\users\\kiit\\miniconda3\\lib\\site-packages (from torchvision==0.10.1+cu111) (8.3.2)\n",
      "Requirement already satisfied: transformers in c:\\users\\kiit\\miniconda3\\lib\\site-packages (4.11.0)\n",
      "Requirement already satisfied: filelock in c:\\users\\kiit\\miniconda3\\lib\\site-packages (from transformers) (3.1.0)\n",
      "Requirement already satisfied: importlib-metadata in c:\\users\\kiit\\miniconda3\\lib\\site-packages (from transformers) (4.6.1)\n",
      "Requirement already satisfied: packaging>=20.0 in c:\\users\\kiit\\miniconda3\\lib\\site-packages (from transformers) (21.0)\n",
      "Requirement already satisfied: tokenizers<0.11,>=0.10.1 in c:\\users\\kiit\\miniconda3\\lib\\site-packages (from transformers) (0.10.3)\n",
      "Requirement already satisfied: numpy>=1.17 in c:\\users\\kiit\\miniconda3\\lib\\site-packages (from transformers) (1.21.0)\n",
      "Requirement already satisfied: requests in c:\\users\\kiit\\miniconda3\\lib\\site-packages (from transformers) (2.25.1)\n",
      "Requirement already satisfied: pyyaml>=5.1 in c:\\users\\kiit\\miniconda3\\lib\\site-packages (from transformers) (5.4.1)\n",
      "Requirement already satisfied: sacremoses in c:\\users\\kiit\\miniconda3\\lib\\site-packages (from transformers) (0.0.46)\n",
      "Requirement already satisfied: huggingface-hub>=0.0.17 in c:\\users\\kiit\\miniconda3\\lib\\site-packages (from transformers) (0.0.17)\n",
      "Requirement already satisfied: tqdm>=4.27 in c:\\users\\kiit\\miniconda3\\lib\\site-packages (from transformers) (4.61.2)\n",
      "Requirement already satisfied: regex!=2019.12.17 in c:\\users\\kiit\\miniconda3\\lib\\site-packages (from transformers) (2021.7.6)\n",
      "Requirement already satisfied: typing-extensions in c:\\users\\kiit\\miniconda3\\lib\\site-packages (from huggingface-hub>=0.0.17->transformers) (3.10.0.0)\n",
      "Requirement already satisfied: pyparsing>=2.0.2 in c:\\users\\kiit\\miniconda3\\lib\\site-packages (from packaging>=20.0->transformers) (2.4.7)\n",
      "Requirement already satisfied: colorama in c:\\users\\kiit\\miniconda3\\lib\\site-packages (from tqdm>=4.27->transformers) (0.4.4)\n",
      "Requirement already satisfied: zipp>=0.5 in c:\\users\\kiit\\miniconda3\\lib\\site-packages (from importlib-metadata->transformers) (3.5.0)\n",
      "Requirement already satisfied: chardet<5,>=3.0.2 in c:\\users\\kiit\\miniconda3\\lib\\site-packages (from requests->transformers) (4.0.0)\n",
      "Requirement already satisfied: certifi>=2017.4.17 in c:\\users\\kiit\\miniconda3\\lib\\site-packages (from requests->transformers) (2021.5.30)\n",
      "Requirement already satisfied: urllib3<1.27,>=1.21.1 in c:\\users\\kiit\\miniconda3\\lib\\site-packages (from requests->transformers) (1.26.6)\n",
      "Requirement already satisfied: idna<3,>=2.5 in c:\\users\\kiit\\miniconda3\\lib\\site-packages (from requests->transformers) (2.10)\n",
      "Requirement already satisfied: six in c:\\users\\kiit\\miniconda3\\lib\\site-packages (from sacremoses->transformers) (1.16.0)\n",
      "Requirement already satisfied: click in c:\\users\\kiit\\miniconda3\\lib\\site-packages (from sacremoses->transformers) (8.0.1)\n",
      "Requirement already satisfied: joblib in c:\\users\\kiit\\miniconda3\\lib\\site-packages (from sacremoses->transformers) (1.0.1)\n"
     ]
    }
   ],
   "metadata": {}
  },
  {
   "cell_type": "code",
   "execution_count": 22,
   "source": [
    "#initializing our roBERTa-base Twitter model\r\n",
    "tokenizer = AutoTokenizer.from_pretrained(\"cardiffnlp/twitter-roberta-base-sentiment\")\r\n",
    "model = AutoModelForSequenceClassification.from_pretrained(\"cardiffnlp/twitter-roberta-base-sentiment\")"
   ],
   "outputs": [
    {
     "output_type": "stream",
     "name": "stderr",
     "text": [
      "C:\\Users\\KIIT\\miniconda3\\lib\\site-packages\\transformers\\configuration_utils.py:337: UserWarning: Passing `gradient_checkpointing` to a config initialization is deprecated and will be removed in v5 Transformers. Using `model.gradient_checkpointing_enable()` instead, or if you are using the `Trainer` API, pass `gradient_checkpointing=True` in your `TrainingArguments`.\n",
      "  \"Passing `gradient_checkpointing` to a config initialization is deprecated and will be removed in v5 \"\n"
     ]
    }
   ],
   "metadata": {}
  },
  {
   "cell_type": "code",
   "execution_count": 23,
   "source": [
    "test_word = '@NorbertElekes @SamKhan999 Italy reports 475 coronavirus deaths, the highest single-day death toll for any country. Italy’s total Corona virus cases hit 41,000. 😁 😥😰😰😰\\nAlarming indeed...!! Heart goes out to the people of Italy. 🍁💚\\n#CoronavirusOutbreak #CoronaVirusUpdates #coronavirus #Europe #Italy'"
   ],
   "outputs": [],
   "metadata": {}
  },
  {
   "cell_type": "code",
   "execution_count": 24,
   "source": [
    "#we will use the roberta sentiment to show % of pos, neu or neg of the tweet entered by the user in the live dashboard\r\n",
    "inputs = tokenizer(test_word, return_tensors=\"pt\")\r\n",
    "outputs = model(**inputs)\r\n",
    "scores = outputs[0][0].detach().numpy()\r\n",
    "scores = softmax(scores)\r\n",
    "scores"
   ],
   "outputs": [
    {
     "output_type": "execute_result",
     "data": {
      "text/plain": [
       "array([0.8601887 , 0.12367324, 0.01613794], dtype=float32)"
      ]
     },
     "metadata": {},
     "execution_count": 24
    }
   ],
   "metadata": {}
  },
  {
   "cell_type": "code",
   "execution_count": 25,
   "source": [
    "#we will use the VADER score to show the overall sentiment and the frequency proportion for each sentiment on the map\r\n",
    "analyser = SentimentIntensityAnalyzer()\r\n",
    "analyser.polarity_scores(test_word)"
   ],
   "outputs": [
    {
     "output_type": "execute_result",
     "data": {
      "text/plain": [
       "{'neg': 0.165, 'neu': 0.624, 'pos': 0.211, 'compound': 0.8331}"
      ]
     },
     "metadata": {},
     "execution_count": 25
    }
   ],
   "metadata": {}
  },
  {
   "cell_type": "markdown",
   "source": [
    "# 5. Building Sentiment Pipeline with VADER"
   ],
   "metadata": {}
  },
  {
   "cell_type": "code",
   "execution_count": 3,
   "source": [
    "def getSentiment(ind_csvPath, score_csvPath):\r\n",
    "    # 1.reading DF with Indian data\r\n",
    "    ind_df = pd.read_csv(ind_csvPath)\r\n",
    "    \r\n",
    "    # 2.preprocessing the tweet text\r\n",
    "    def preprocess_for_vader(tweet):\r\n",
    "        cleaned_text = tweet\r\n",
    "        cleaned_text = re.sub(r'RT @[\\w]*:', '', cleaned_text) #removing RT handles\r\n",
    "        cleaned_text = re.sub(r'@[\\w]*', '', cleaned_text) #removing all @mentions\r\n",
    "        cleaned_text = re.sub(r'((www.[^s]+)|(https?://[^s]+))', ' ', cleaned_text) #removing URL links\r\n",
    "        cleaned_text = np.core.defchararray.replace(cleaned_text, \"[^a-zA-Z#]\", \" \") #removing special characters, numbers and punctuations except #\r\n",
    "        return cleaned_text\r\n",
    "    \r\n",
    "    ind_df[\"vader_text\"] = ind_df[\"text\"].apply(lambda x: preprocess_for_vader(x))\r\n",
    "    \r\n",
    "    # 3.sentiment scoring with VADER\r\n",
    "    analyser = SentimentIntensityAnalyzer()\r\n",
    "    ind_df[\"vader_score\"] = ind_df[\"vader_text\"].apply(lambda x: analyser.polarity_scores(x)[\"compound\"])\r\n",
    "    \r\n",
    "    # 4.exporting DF with scores to path given\r\n",
    "    ind_df.to_csv(score_csvPath, index=False)"
   ],
   "outputs": [],
   "metadata": {}
  },
  {
   "cell_type": "code",
   "execution_count": 5,
   "source": [
    "#getting the CSV with Sentiment Scores for March 27, 2020\r\n",
    "indianCSV_path = \"C:\\Data Science\\Jupyter_Workspace\\Twitter_Sentiment\\Data\\March27_20\\Hydrated\\mar27_ind_df.csv\"\r\n",
    "scoresCSV_path = \"C:\\Data Science\\Jupyter_Workspace\\Twitter_Sentiment\\Data\\March27_20\\Hydrated\\mar27_score_df.csv\"\r\n",
    "getSentiment(indianCSV_path, scoresCSV_path)"
   ],
   "outputs": [],
   "metadata": {}
  },
  {
   "cell_type": "code",
   "execution_count": 4,
   "source": [
    "#March 25, 2020\r\n",
    "indianCSV_path = \"C:\\Data Science\\Jupyter_Workspace\\Twitter_Sentiment\\Data\\\\March25_20\\Hydrated\\\\mar25_ind_df.csv\"\r\n",
    "scoresCSV_path = \"C:\\Data Science\\Jupyter_Workspace\\Twitter_Sentiment\\Data\\\\March25_20\\Hydrated\\\\mar25_score_df.csv\"\r\n",
    "getSentiment(indianCSV_path, scoresCSV_path)"
   ],
   "outputs": [],
   "metadata": {}
  }
 ],
 "metadata": {
  "orig_nbformat": 4,
  "language_info": {
   "name": "python",
   "version": "3.7.6",
   "mimetype": "text/x-python",
   "codemirror_mode": {
    "name": "ipython",
    "version": 3
   },
   "pygments_lexer": "ipython3",
   "nbconvert_exporter": "python",
   "file_extension": ".py"
  },
  "kernelspec": {
   "name": "python3",
   "display_name": "Python 3.7.6 64-bit ('base': conda)"
  },
  "interpreter": {
   "hash": "d65ed39dd581ebcf9df35782933087a7829422d005b2b32c58247ec95bc3be21"
  }
 },
 "nbformat": 4,
 "nbformat_minor": 2
}