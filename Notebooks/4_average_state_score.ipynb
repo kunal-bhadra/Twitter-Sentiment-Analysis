{
 "cells": [
  {
   "cell_type": "markdown",
   "source": [
    "Here, we are averaging out all the Sentiment Scores for each state in India, so that in the end we have a DF with scores for all Indian States, after which we can do GeoMapping in Notebook 5. "
   ],
   "metadata": {}
  },
  {
   "cell_type": "markdown",
   "source": [
    "# Importing Libraries and Data"
   ],
   "metadata": {}
  },
  {
   "cell_type": "code",
   "execution_count": 1,
   "source": [
    "!pip install geojson"
   ],
   "outputs": [
    {
     "output_type": "stream",
     "name": "stdout",
     "text": [
      "Requirement already satisfied: geojson in c:\\users\\kiit\\miniconda3\\lib\\site-packages (2.5.0)\n"
     ]
    }
   ],
   "metadata": {}
  },
  {
   "cell_type": "code",
   "execution_count": 2,
   "source": [
    "#importing libaries\r\n",
    "import pandas as pd "
   ],
   "outputs": [],
   "metadata": {}
  },
  {
   "cell_type": "code",
   "execution_count": 3,
   "source": [
    "#data path for file with vader score for individual coordinates\r\n",
    "scoresCSV_path = \"C:\\Data Science\\Jupyter_Workspace\\Twitter_Sentiment\\Data\\\\March27_20\\Hydrated\\\\mar27_score_df.csv\"\r\n",
    "stateCSV_path = \"C:\\Data Science\\Jupyter_Workspace\\Twitter_Sentiment\\Data\\\\March27_20\\Hydrated\\\\mar27_state_df.csv\"\r\n",
    "mar27_score = pd.read_csv(scoresCSV_path)"
   ],
   "outputs": [],
   "metadata": {}
  },
  {
   "cell_type": "markdown",
   "source": [
    "# Grouping the Data by State"
   ],
   "metadata": {}
  },
  {
   "cell_type": "code",
   "execution_count": 4,
   "source": [
    "mar27_score.head(5)"
   ],
   "outputs": [
    {
     "output_type": "execute_result",
     "data": {
      "text/html": [
       "<div>\n",
       "<style scoped>\n",
       "    .dataframe tbody tr th:only-of-type {\n",
       "        vertical-align: middle;\n",
       "    }\n",
       "\n",
       "    .dataframe tbody tr th {\n",
       "        vertical-align: top;\n",
       "    }\n",
       "\n",
       "    .dataframe thead th {\n",
       "        text-align: right;\n",
       "    }\n",
       "</style>\n",
       "<table border=\"1\" class=\"dataframe\">\n",
       "  <thead>\n",
       "    <tr style=\"text-align: right;\">\n",
       "      <th></th>\n",
       "      <th>id</th>\n",
       "      <th>longitude</th>\n",
       "      <th>latitude</th>\n",
       "      <th>text</th>\n",
       "      <th>state</th>\n",
       "      <th>vader_text</th>\n",
       "      <th>vader_score</th>\n",
       "    </tr>\n",
       "  </thead>\n",
       "  <tbody>\n",
       "    <tr>\n",
       "      <th>0</th>\n",
       "      <td>1243420733230866433</td>\n",
       "      <td>75.014001</td>\n",
       "      <td>12.752933</td>\n",
       "      <td>@bpcretmanglore provided in-house developed sa...</td>\n",
       "      <td>Karnataka</td>\n",
       "      <td>provided in-house developed sanitiser at vari...</td>\n",
       "      <td>0.4939</td>\n",
       "    </tr>\n",
       "    <tr>\n",
       "      <th>1</th>\n",
       "      <td>1243421018070249474</td>\n",
       "      <td>77.786319</td>\n",
       "      <td>12.731936</td>\n",
       "      <td>Dear @narendramodi Pradhan sevak sir,\\nThese a...</td>\n",
       "      <td>Tamil Nadu</td>\n",
       "      <td>Dear  Pradhan sevak sir,\\nThese are few tasks ...</td>\n",
       "      <td>0.8402</td>\n",
       "    </tr>\n",
       "    <tr>\n",
       "      <th>2</th>\n",
       "      <td>1243421048172769285</td>\n",
       "      <td>77.347652</td>\n",
       "      <td>28.397657</td>\n",
       "      <td>@angelmsilos Programmers are always on the wor...</td>\n",
       "      <td>Haryana</td>\n",
       "      <td>Programmers are always on the work. It does n...</td>\n",
       "      <td>-0.3678</td>\n",
       "    </tr>\n",
       "    <tr>\n",
       "      <th>3</th>\n",
       "      <td>1243421121858244609</td>\n",
       "      <td>77.786319</td>\n",
       "      <td>12.731936</td>\n",
       "      <td>@mlayvpatil @mpbijapur @INCVijayapura @MBPatil...</td>\n",
       "      <td>Tamil Nadu</td>\n",
       "      <td>please take note to avoid potential spr...</td>\n",
       "      <td>0.0258</td>\n",
       "    </tr>\n",
       "    <tr>\n",
       "      <th>4</th>\n",
       "      <td>1243421081538408448</td>\n",
       "      <td>88.610027</td>\n",
       "      <td>22.269493</td>\n",
       "      <td>I have created one online form to collect thei...</td>\n",
       "      <td>West Bengal</td>\n",
       "      <td>I have created one online form to collect thei...</td>\n",
       "      <td>0.5719</td>\n",
       "    </tr>\n",
       "  </tbody>\n",
       "</table>\n",
       "</div>"
      ],
      "text/plain": [
       "                    id  longitude   latitude  \\\n",
       "0  1243420733230866433  75.014001  12.752933   \n",
       "1  1243421018070249474  77.786319  12.731936   \n",
       "2  1243421048172769285  77.347652  28.397657   \n",
       "3  1243421121858244609  77.786319  12.731936   \n",
       "4  1243421081538408448  88.610027  22.269493   \n",
       "\n",
       "                                                text        state  \\\n",
       "0  @bpcretmanglore provided in-house developed sa...    Karnataka   \n",
       "1  Dear @narendramodi Pradhan sevak sir,\\nThese a...   Tamil Nadu   \n",
       "2  @angelmsilos Programmers are always on the wor...      Haryana   \n",
       "3  @mlayvpatil @mpbijapur @INCVijayapura @MBPatil...   Tamil Nadu   \n",
       "4  I have created one online form to collect thei...  West Bengal   \n",
       "\n",
       "                                          vader_text  vader_score  \n",
       "0   provided in-house developed sanitiser at vari...       0.4939  \n",
       "1  Dear  Pradhan sevak sir,\\nThese are few tasks ...       0.8402  \n",
       "2   Programmers are always on the work. It does n...      -0.3678  \n",
       "3         please take note to avoid potential spr...       0.0258  \n",
       "4  I have created one online form to collect thei...       0.5719  "
      ]
     },
     "metadata": {},
     "execution_count": 4
    }
   ],
   "metadata": {}
  },
  {
   "cell_type": "code",
   "execution_count": 5,
   "source": [
    "mar27_score['state'].value_counts()"
   ],
   "outputs": [
    {
     "output_type": "execute_result",
     "data": {
      "text/plain": [
       "Maharashtra                                 547\n",
       "Haryana                                     451\n",
       "Uttar Pradesh                               378\n",
       "Tamil Nadu                                  273\n",
       "West Bengal                                 131\n",
       "Gujarat                                     130\n",
       "Karnataka                                   110\n",
       "Telangana                                   109\n",
       "Madhya Pradesh                               71\n",
       "Rajasthan                                    69\n",
       "Bihar                                        69\n",
       "Odisha                                       68\n",
       "Jammu and Kashmir                            55\n",
       "Jharkhand                                    53\n",
       "Andhra Pradesh                               33\n",
       "Assam                                        27\n",
       "Uttarakhand                                  26\n",
       "Chhattisgarh                                 26\n",
       "Punjab                                       25\n",
       "Kerala                                       22\n",
       "North Western Province                       16\n",
       "Delhi                                        10\n",
       "Goa                                           7\n",
       "Sagaing                                       6\n",
       "Arunachal Pradesh                             5\n",
       "Manipur                                       4\n",
       "Himachal Pradesh                              4\n",
       "Rangpur Division                              3\n",
       "Chattogram Division                           2\n",
       "Khulna Division                               2\n",
       "Meghalaya                                     2\n",
       "Tripura                                       1\n",
       "Puducherry                                    1\n",
       "Chandigarh                                    1\n",
       "Sylhet Division                               1\n",
       "Mizoram                                       1\n",
       "Samtse District                               1\n",
       "Nagaland                                      1\n",
       "Chin                                          1\n",
       "Dadra and Nagar Haveli and Daman and Diu      1\n",
       "Name: state, dtype: int64"
      ]
     },
     "metadata": {},
     "execution_count": 5
    }
   ],
   "metadata": {}
  },
  {
   "cell_type": "code",
   "execution_count": 6,
   "source": [
    "#grouping and taking the mean of scores by state\r\n",
    "mar27_state = mar27_score.groupby('state', as_index=False)['vader_score'].mean()"
   ],
   "outputs": [],
   "metadata": {}
  },
  {
   "cell_type": "code",
   "execution_count": 7,
   "source": [
    "mar27_state"
   ],
   "outputs": [
    {
     "output_type": "execute_result",
     "data": {
      "text/html": [
       "<div>\n",
       "<style scoped>\n",
       "    .dataframe tbody tr th:only-of-type {\n",
       "        vertical-align: middle;\n",
       "    }\n",
       "\n",
       "    .dataframe tbody tr th {\n",
       "        vertical-align: top;\n",
       "    }\n",
       "\n",
       "    .dataframe thead th {\n",
       "        text-align: right;\n",
       "    }\n",
       "</style>\n",
       "<table border=\"1\" class=\"dataframe\">\n",
       "  <thead>\n",
       "    <tr style=\"text-align: right;\">\n",
       "      <th></th>\n",
       "      <th>state</th>\n",
       "      <th>vader_score</th>\n",
       "    </tr>\n",
       "  </thead>\n",
       "  <tbody>\n",
       "    <tr>\n",
       "      <th>0</th>\n",
       "      <td>Andhra Pradesh</td>\n",
       "      <td>0.251303</td>\n",
       "    </tr>\n",
       "    <tr>\n",
       "      <th>1</th>\n",
       "      <td>Arunachal Pradesh</td>\n",
       "      <td>-0.166020</td>\n",
       "    </tr>\n",
       "    <tr>\n",
       "      <th>2</th>\n",
       "      <td>Assam</td>\n",
       "      <td>0.071552</td>\n",
       "    </tr>\n",
       "    <tr>\n",
       "      <th>3</th>\n",
       "      <td>Bihar</td>\n",
       "      <td>0.080788</td>\n",
       "    </tr>\n",
       "    <tr>\n",
       "      <th>4</th>\n",
       "      <td>Chandigarh</td>\n",
       "      <td>0.318200</td>\n",
       "    </tr>\n",
       "    <tr>\n",
       "      <th>5</th>\n",
       "      <td>Chattogram Division</td>\n",
       "      <td>0.086250</td>\n",
       "    </tr>\n",
       "    <tr>\n",
       "      <th>6</th>\n",
       "      <td>Chhattisgarh</td>\n",
       "      <td>0.023615</td>\n",
       "    </tr>\n",
       "    <tr>\n",
       "      <th>7</th>\n",
       "      <td>Chin</td>\n",
       "      <td>0.000000</td>\n",
       "    </tr>\n",
       "    <tr>\n",
       "      <th>8</th>\n",
       "      <td>Dadra and Nagar Haveli and Daman and Diu</td>\n",
       "      <td>0.000000</td>\n",
       "    </tr>\n",
       "    <tr>\n",
       "      <th>9</th>\n",
       "      <td>Delhi</td>\n",
       "      <td>0.391730</td>\n",
       "    </tr>\n",
       "    <tr>\n",
       "      <th>10</th>\n",
       "      <td>Goa</td>\n",
       "      <td>0.067129</td>\n",
       "    </tr>\n",
       "    <tr>\n",
       "      <th>11</th>\n",
       "      <td>Gujarat</td>\n",
       "      <td>0.168050</td>\n",
       "    </tr>\n",
       "    <tr>\n",
       "      <th>12</th>\n",
       "      <td>Haryana</td>\n",
       "      <td>0.117686</td>\n",
       "    </tr>\n",
       "    <tr>\n",
       "      <th>13</th>\n",
       "      <td>Himachal Pradesh</td>\n",
       "      <td>0.077925</td>\n",
       "    </tr>\n",
       "    <tr>\n",
       "      <th>14</th>\n",
       "      <td>Jammu and Kashmir</td>\n",
       "      <td>-0.034455</td>\n",
       "    </tr>\n",
       "    <tr>\n",
       "      <th>15</th>\n",
       "      <td>Jharkhand</td>\n",
       "      <td>0.121632</td>\n",
       "    </tr>\n",
       "    <tr>\n",
       "      <th>16</th>\n",
       "      <td>Karnataka</td>\n",
       "      <td>0.161501</td>\n",
       "    </tr>\n",
       "    <tr>\n",
       "      <th>17</th>\n",
       "      <td>Kerala</td>\n",
       "      <td>0.058059</td>\n",
       "    </tr>\n",
       "    <tr>\n",
       "      <th>18</th>\n",
       "      <td>Khulna Division</td>\n",
       "      <td>0.100450</td>\n",
       "    </tr>\n",
       "    <tr>\n",
       "      <th>19</th>\n",
       "      <td>Madhya Pradesh</td>\n",
       "      <td>0.051320</td>\n",
       "    </tr>\n",
       "    <tr>\n",
       "      <th>20</th>\n",
       "      <td>Maharashtra</td>\n",
       "      <td>0.084761</td>\n",
       "    </tr>\n",
       "    <tr>\n",
       "      <th>21</th>\n",
       "      <td>Manipur</td>\n",
       "      <td>-0.203300</td>\n",
       "    </tr>\n",
       "    <tr>\n",
       "      <th>22</th>\n",
       "      <td>Meghalaya</td>\n",
       "      <td>0.207500</td>\n",
       "    </tr>\n",
       "    <tr>\n",
       "      <th>23</th>\n",
       "      <td>Mizoram</td>\n",
       "      <td>0.668200</td>\n",
       "    </tr>\n",
       "    <tr>\n",
       "      <th>24</th>\n",
       "      <td>Nagaland</td>\n",
       "      <td>0.680800</td>\n",
       "    </tr>\n",
       "    <tr>\n",
       "      <th>25</th>\n",
       "      <td>North Western Province</td>\n",
       "      <td>0.164375</td>\n",
       "    </tr>\n",
       "    <tr>\n",
       "      <th>26</th>\n",
       "      <td>Odisha</td>\n",
       "      <td>0.149969</td>\n",
       "    </tr>\n",
       "    <tr>\n",
       "      <th>27</th>\n",
       "      <td>Puducherry</td>\n",
       "      <td>0.908200</td>\n",
       "    </tr>\n",
       "    <tr>\n",
       "      <th>28</th>\n",
       "      <td>Punjab</td>\n",
       "      <td>0.344660</td>\n",
       "    </tr>\n",
       "    <tr>\n",
       "      <th>29</th>\n",
       "      <td>Rajasthan</td>\n",
       "      <td>0.173910</td>\n",
       "    </tr>\n",
       "    <tr>\n",
       "      <th>30</th>\n",
       "      <td>Rangpur Division</td>\n",
       "      <td>-0.181067</td>\n",
       "    </tr>\n",
       "    <tr>\n",
       "      <th>31</th>\n",
       "      <td>Sagaing</td>\n",
       "      <td>0.530350</td>\n",
       "    </tr>\n",
       "    <tr>\n",
       "      <th>32</th>\n",
       "      <td>Samtse District</td>\n",
       "      <td>0.746300</td>\n",
       "    </tr>\n",
       "    <tr>\n",
       "      <th>33</th>\n",
       "      <td>Sylhet Division</td>\n",
       "      <td>0.493900</td>\n",
       "    </tr>\n",
       "    <tr>\n",
       "      <th>34</th>\n",
       "      <td>Tamil Nadu</td>\n",
       "      <td>0.121949</td>\n",
       "    </tr>\n",
       "    <tr>\n",
       "      <th>35</th>\n",
       "      <td>Telangana</td>\n",
       "      <td>0.084372</td>\n",
       "    </tr>\n",
       "    <tr>\n",
       "      <th>36</th>\n",
       "      <td>Tripura</td>\n",
       "      <td>-0.806600</td>\n",
       "    </tr>\n",
       "    <tr>\n",
       "      <th>37</th>\n",
       "      <td>Uttar Pradesh</td>\n",
       "      <td>0.128591</td>\n",
       "    </tr>\n",
       "    <tr>\n",
       "      <th>38</th>\n",
       "      <td>Uttarakhand</td>\n",
       "      <td>0.233596</td>\n",
       "    </tr>\n",
       "    <tr>\n",
       "      <th>39</th>\n",
       "      <td>West Bengal</td>\n",
       "      <td>0.040470</td>\n",
       "    </tr>\n",
       "  </tbody>\n",
       "</table>\n",
       "</div>"
      ],
      "text/plain": [
       "                                       state  vader_score\n",
       "0                             Andhra Pradesh     0.251303\n",
       "1                          Arunachal Pradesh    -0.166020\n",
       "2                                      Assam     0.071552\n",
       "3                                      Bihar     0.080788\n",
       "4                                 Chandigarh     0.318200\n",
       "5                        Chattogram Division     0.086250\n",
       "6                               Chhattisgarh     0.023615\n",
       "7                                       Chin     0.000000\n",
       "8   Dadra and Nagar Haveli and Daman and Diu     0.000000\n",
       "9                                      Delhi     0.391730\n",
       "10                                       Goa     0.067129\n",
       "11                                   Gujarat     0.168050\n",
       "12                                   Haryana     0.117686\n",
       "13                          Himachal Pradesh     0.077925\n",
       "14                         Jammu and Kashmir    -0.034455\n",
       "15                                 Jharkhand     0.121632\n",
       "16                                 Karnataka     0.161501\n",
       "17                                    Kerala     0.058059\n",
       "18                           Khulna Division     0.100450\n",
       "19                            Madhya Pradesh     0.051320\n",
       "20                               Maharashtra     0.084761\n",
       "21                                   Manipur    -0.203300\n",
       "22                                 Meghalaya     0.207500\n",
       "23                                   Mizoram     0.668200\n",
       "24                                  Nagaland     0.680800\n",
       "25                    North Western Province     0.164375\n",
       "26                                    Odisha     0.149969\n",
       "27                                Puducherry     0.908200\n",
       "28                                    Punjab     0.344660\n",
       "29                                 Rajasthan     0.173910\n",
       "30                          Rangpur Division    -0.181067\n",
       "31                                   Sagaing     0.530350\n",
       "32                           Samtse District     0.746300\n",
       "33                           Sylhet Division     0.493900\n",
       "34                                Tamil Nadu     0.121949\n",
       "35                                 Telangana     0.084372\n",
       "36                                   Tripura    -0.806600\n",
       "37                             Uttar Pradesh     0.128591\n",
       "38                               Uttarakhand     0.233596\n",
       "39                               West Bengal     0.040470"
      ]
     },
     "metadata": {},
     "execution_count": 7
    }
   ],
   "metadata": {}
  },
  {
   "cell_type": "code",
   "execution_count": 8,
   "source": [
    "#correcting state names to match with GeoJSON Keys\r\n",
    "mar27_state[\"state\"].replace({\"Jammu and Kashmir\": \"Jammu & Kashmir\", \r\n",
    "                              \"Dadra and Nagar Haveli and Daman and Diu\": \"Dadara & Nagar Havelli\", \r\n",
    "                              \"Arunachal Pradesh\": \"Arunanchal Pradesh\", \r\n",
    "                              \"Delhi\": \"NCT of Delhi\"}, inplace=True)"
   ],
   "outputs": [],
   "metadata": {}
  },
  {
   "cell_type": "markdown",
   "source": [
    "# Filtering the States to match with GeoJSON states"
   ],
   "metadata": {}
  },
  {
   "cell_type": "code",
   "execution_count": 9,
   "source": [
    "import geojson\r\n",
    "with open('states_india.geojson') as f:\r\n",
    "    gj = geojson.load(f)"
   ],
   "outputs": [],
   "metadata": {}
  },
  {
   "cell_type": "code",
   "execution_count": 10,
   "source": [
    "#locating the index with state value in the data file\r\n",
    "gj['features'][35][\"properties\"][\"st_nm\"]"
   ],
   "outputs": [
    {
     "output_type": "execute_result",
     "data": {
      "text/plain": [
       "'NCT of Delhi'"
      ]
     },
     "metadata": {},
     "execution_count": 10
    }
   ],
   "metadata": {}
  },
  {
   "cell_type": "code",
   "execution_count": 11,
   "source": [
    "#making a list of unique states in the GeoJSON file\r\n",
    "state_list = []\r\n",
    "for i in range(0, 36):\r\n",
    "    state_list.append(gj['features'][i][\"properties\"][\"st_nm\"])\r\n",
    "    \r\n",
    "state_list = sorted(state_list)\r\n",
    "state_list"
   ],
   "outputs": [
    {
     "output_type": "execute_result",
     "data": {
      "text/plain": [
       "['Andaman & Nicobar Island',\n",
       " 'Andhra Pradesh',\n",
       " 'Arunanchal Pradesh',\n",
       " 'Assam',\n",
       " 'Bihar',\n",
       " 'Chandigarh',\n",
       " 'Chhattisgarh',\n",
       " 'Dadara & Nagar Havelli',\n",
       " 'Daman & Diu',\n",
       " 'Goa',\n",
       " 'Gujarat',\n",
       " 'Haryana',\n",
       " 'Himachal Pradesh',\n",
       " 'Jammu & Kashmir',\n",
       " 'Jharkhand',\n",
       " 'Karnataka',\n",
       " 'Kerala',\n",
       " 'Lakshadweep',\n",
       " 'Madhya Pradesh',\n",
       " 'Maharashtra',\n",
       " 'Manipur',\n",
       " 'Meghalaya',\n",
       " 'Mizoram',\n",
       " 'NCT of Delhi',\n",
       " 'Nagaland',\n",
       " 'Odisha',\n",
       " 'Puducherry',\n",
       " 'Punjab',\n",
       " 'Rajasthan',\n",
       " 'Sikkim',\n",
       " 'Tamil Nadu',\n",
       " 'Telangana',\n",
       " 'Tripura',\n",
       " 'Uttar Pradesh',\n",
       " 'Uttarakhand',\n",
       " 'West Bengal']"
      ]
     },
     "metadata": {},
     "execution_count": 11
    }
   ],
   "metadata": {}
  },
  {
   "cell_type": "code",
   "execution_count": 12,
   "source": [
    "#checking for missing values between mar27 states and unique geo states\r\n",
    "print(\"Missing values in GeoJSON State List:\", (set(mar27_state[\"state\"]).difference(state_list)))"
   ],
   "outputs": [
    {
     "output_type": "stream",
     "name": "stdout",
     "text": [
      "Missing values in GeoJSON State List: {'Sylhet Division', 'Samtse District', 'Rangpur Division', 'Chin', 'Khulna Division', 'Sagaing', 'North Western Province', 'Chattogram Division'}\n"
     ]
    }
   ],
   "metadata": {}
  },
  {
   "cell_type": "markdown",
   "source": [
    "# Building the Pipeline for State Mean Score"
   ],
   "metadata": {}
  },
  {
   "cell_type": "code",
   "execution_count": 13,
   "source": [
    "def get_state_score(score_path, state_path):\r\n",
    "    # 1.grouping to get the score for each state\r\n",
    "    score_df = pd.read_csv(score_path)\r\n",
    "    state_df = score_df.groupby('state', as_index=False)['vader_score'].mean()\r\n",
    "    \r\n",
    "    # 2.correcting state names to match with GeoJSON Keys\r\n",
    "    state_df[\"state\"].replace({\"Jammu and Kashmir\": \"Jammu & Kashmir\", \r\n",
    "                              \"Dadra and Nagar Haveli and Daman and Diu\": \"Dadara & Nagar Havelli\", \r\n",
    "                              \"Arunachal Pradesh\": \"Arunanchal Pradesh\", \r\n",
    "                              \"Delhi\": \"NCT of Delhi\"}, inplace=True)\r\n",
    "    \r\n",
    "    # 3. removing rows for invalid states\r\n",
    "    state_list = ['Andaman & Nicobar Island', 'Andhra Pradesh', 'Arunanchal Pradesh', 'Assam', 'Bihar', 'Chandigarh', 'Chhattisgarh',\r\n",
    "                  'Dadara & Nagar Havelli', 'Daman & Diu', 'Goa', 'Gujarat', 'Haryana', 'Himachal Pradesh', 'Jammu & Kashmir',\r\n",
    "                  'Jharkhand', 'Karnataka', 'Kerala', 'Lakshadweep', 'Madhya Pradesh', 'Maharashtra', 'Manipur', 'Meghalaya', 'Mizoram',\r\n",
    "                  'NCT of Delhi', 'Nagaland', 'Odisha', 'Puducherry', 'Punjab', 'Rajasthan', 'Sikkim', 'Tamil Nadu', 'Telangana', 'Tripura',\r\n",
    "                  'Uttar Pradesh', 'Uttarakhand', 'West Bengal']\r\n",
    "    state_df.drop(state_df[~state_df[\"state\"].isin(state_list)].index, inplace=True)\r\n",
    "    \r\n",
    "    # 4.exporting state DF to CSV\r\n",
    "    state_df.to_csv(state_path, index=False)"
   ],
   "outputs": [],
   "metadata": {}
  },
  {
   "cell_type": "code",
   "execution_count": 14,
   "source": [
    "#March 27, 2020\r\n",
    "get_state_score(scoresCSV_path, stateCSV_path)"
   ],
   "outputs": [],
   "metadata": {}
  },
  {
   "cell_type": "code",
   "execution_count": 15,
   "source": [
    "#March 25, 2020\r\n",
    "mar25_score = \"C:\\Data Science\\Jupyter_Workspace\\Twitter_Sentiment\\Data\\\\March25_20\\Hydrated\\\\mar25_score_df.csv\"\r\n",
    "mar25_state = \"C:\\Data Science\\Jupyter_Workspace\\Twitter_Sentiment\\Data\\\\March25_20\\Hydrated\\\\mar25_state_df.csv\"\r\n",
    "get_state_score(mar25_score, mar25_state)"
   ],
   "outputs": [],
   "metadata": {}
  },
  {
   "cell_type": "markdown",
   "source": [
    "# Pipeline for Appending Date to CSV"
   ],
   "metadata": {}
  },
  {
   "cell_type": "code",
   "execution_count": 16,
   "source": [
    "import re\r\n",
    "march_25 = \"C:\\Data Science\\Jupyter_Workspace\\Twitter_Sentiment\\Data\\\\March25_20\\Hydrated\\\\25032020.csv\"\r\n",
    "res = re.findall(\"(\\d+).csv\", march_25)\r\n",
    "date = (int)(res[0])\r\n",
    "date"
   ],
   "outputs": [
    {
     "output_type": "execute_result",
     "data": {
      "text/plain": [
       "25032020"
      ]
     },
     "metadata": {},
     "execution_count": 16
    }
   ],
   "metadata": {}
  },
  {
   "cell_type": "code",
   "execution_count": 17,
   "source": [
    "mar27_state[\"date\"] = date"
   ],
   "outputs": [],
   "metadata": {}
  },
  {
   "cell_type": "code",
   "execution_count": 18,
   "source": [
    "mar27_state.head(5)"
   ],
   "outputs": [
    {
     "output_type": "execute_result",
     "data": {
      "text/html": [
       "<div>\n",
       "<style scoped>\n",
       "    .dataframe tbody tr th:only-of-type {\n",
       "        vertical-align: middle;\n",
       "    }\n",
       "\n",
       "    .dataframe tbody tr th {\n",
       "        vertical-align: top;\n",
       "    }\n",
       "\n",
       "    .dataframe thead th {\n",
       "        text-align: right;\n",
       "    }\n",
       "</style>\n",
       "<table border=\"1\" class=\"dataframe\">\n",
       "  <thead>\n",
       "    <tr style=\"text-align: right;\">\n",
       "      <th></th>\n",
       "      <th>state</th>\n",
       "      <th>vader_score</th>\n",
       "      <th>date</th>\n",
       "    </tr>\n",
       "  </thead>\n",
       "  <tbody>\n",
       "    <tr>\n",
       "      <th>0</th>\n",
       "      <td>Andhra Pradesh</td>\n",
       "      <td>0.251303</td>\n",
       "      <td>25032020</td>\n",
       "    </tr>\n",
       "    <tr>\n",
       "      <th>1</th>\n",
       "      <td>Arunanchal Pradesh</td>\n",
       "      <td>-0.166020</td>\n",
       "      <td>25032020</td>\n",
       "    </tr>\n",
       "    <tr>\n",
       "      <th>2</th>\n",
       "      <td>Assam</td>\n",
       "      <td>0.071552</td>\n",
       "      <td>25032020</td>\n",
       "    </tr>\n",
       "    <tr>\n",
       "      <th>3</th>\n",
       "      <td>Bihar</td>\n",
       "      <td>0.080788</td>\n",
       "      <td>25032020</td>\n",
       "    </tr>\n",
       "    <tr>\n",
       "      <th>4</th>\n",
       "      <td>Chandigarh</td>\n",
       "      <td>0.318200</td>\n",
       "      <td>25032020</td>\n",
       "    </tr>\n",
       "  </tbody>\n",
       "</table>\n",
       "</div>"
      ],
      "text/plain": [
       "                state  vader_score      date\n",
       "0      Andhra Pradesh     0.251303  25032020\n",
       "1  Arunanchal Pradesh    -0.166020  25032020\n",
       "2               Assam     0.071552  25032020\n",
       "3               Bihar     0.080788  25032020\n",
       "4          Chandigarh     0.318200  25032020"
      ]
     },
     "metadata": {},
     "execution_count": 18
    }
   ],
   "metadata": {}
  },
  {
   "cell_type": "code",
   "execution_count": 19,
   "source": [
    "mar25_state"
   ],
   "outputs": [
    {
     "output_type": "execute_result",
     "data": {
      "text/plain": [
       "'C:\\\\Data Science\\\\Jupyter_Workspace\\\\Twitter_Sentiment\\\\Data\\\\March25_20\\\\Hydrated\\\\mar25_state_df.csv'"
      ]
     },
     "metadata": {},
     "execution_count": 19
    }
   ],
   "metadata": {}
  },
  {
   "cell_type": "code",
   "execution_count": 20,
   "source": [
    "df1 = pd.DataFrame({\"state\":['Andhra Pradesh', 'Arunanchal Pradesh'],\r\n",
    "                         \"vader_score\":[0.251303, -0.166020],\r\n",
    "                         \"date\": [25032020, 25032020]})\r\n",
    "  \r\n",
    "df2 = pd.DataFrame({\"state\":['Assam', 'Bihar'],\r\n",
    "                         \"vader_score\":[0.071552, 0.080788],\r\n",
    "                         \"date\": [25032020, 25032020]})\r\n",
    "\r\n",
    "df1 = df1.append(df2, ignore_index = True)"
   ],
   "outputs": [],
   "metadata": {}
  },
  {
   "cell_type": "code",
   "execution_count": 21,
   "source": [
    "df1"
   ],
   "outputs": [
    {
     "output_type": "execute_result",
     "data": {
      "text/html": [
       "<div>\n",
       "<style scoped>\n",
       "    .dataframe tbody tr th:only-of-type {\n",
       "        vertical-align: middle;\n",
       "    }\n",
       "\n",
       "    .dataframe tbody tr th {\n",
       "        vertical-align: top;\n",
       "    }\n",
       "\n",
       "    .dataframe thead th {\n",
       "        text-align: right;\n",
       "    }\n",
       "</style>\n",
       "<table border=\"1\" class=\"dataframe\">\n",
       "  <thead>\n",
       "    <tr style=\"text-align: right;\">\n",
       "      <th></th>\n",
       "      <th>state</th>\n",
       "      <th>vader_score</th>\n",
       "      <th>date</th>\n",
       "    </tr>\n",
       "  </thead>\n",
       "  <tbody>\n",
       "    <tr>\n",
       "      <th>0</th>\n",
       "      <td>Andhra Pradesh</td>\n",
       "      <td>0.251303</td>\n",
       "      <td>25032020</td>\n",
       "    </tr>\n",
       "    <tr>\n",
       "      <th>1</th>\n",
       "      <td>Arunanchal Pradesh</td>\n",
       "      <td>-0.166020</td>\n",
       "      <td>25032020</td>\n",
       "    </tr>\n",
       "    <tr>\n",
       "      <th>2</th>\n",
       "      <td>Assam</td>\n",
       "      <td>0.071552</td>\n",
       "      <td>25032020</td>\n",
       "    </tr>\n",
       "    <tr>\n",
       "      <th>3</th>\n",
       "      <td>Bihar</td>\n",
       "      <td>0.080788</td>\n",
       "      <td>25032020</td>\n",
       "    </tr>\n",
       "  </tbody>\n",
       "</table>\n",
       "</div>"
      ],
      "text/plain": [
       "                state  vader_score      date\n",
       "0      Andhra Pradesh     0.251303  25032020\n",
       "1  Arunanchal Pradesh    -0.166020  25032020\n",
       "2               Assam     0.071552  25032020\n",
       "3               Bihar     0.080788  25032020"
      ]
     },
     "metadata": {},
     "execution_count": 21
    }
   ],
   "metadata": {}
  },
  {
   "cell_type": "code",
   "execution_count": null,
   "source": [],
   "outputs": [],
   "metadata": {}
  }
 ],
 "metadata": {
  "orig_nbformat": 4,
  "language_info": {
   "name": "python",
   "version": "3.7.6",
   "mimetype": "text/x-python",
   "codemirror_mode": {
    "name": "ipython",
    "version": 3
   },
   "pygments_lexer": "ipython3",
   "nbconvert_exporter": "python",
   "file_extension": ".py"
  },
  "kernelspec": {
   "name": "python3",
   "display_name": "Python 3.7.6 64-bit ('base': conda)"
  },
  "interpreter": {
   "hash": "d65ed39dd581ebcf9df35782933087a7829422d005b2b32c58247ec95bc3be21"
  }
 },
 "nbformat": 4,
 "nbformat_minor": 2
}