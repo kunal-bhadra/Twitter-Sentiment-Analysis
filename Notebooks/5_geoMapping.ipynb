{
 "cells": [
  {
   "cell_type": "markdown",
   "metadata": {},
   "source": [
    "Once we have the average Sentiment Score per each state in India, then we can move on to Geomapping with the GeoJSON file and plotly."
   ]
  },
  {
   "cell_type": "code",
   "execution_count": null,
   "metadata": {},
   "outputs": [],
   "source": [
    "# !pip install plotly\n",
    "# !pip install nbformat"
   ]
  },
  {
   "cell_type": "code",
   "execution_count": null,
   "metadata": {},
   "outputs": [],
   "source": [
    "# !pip install --upgrade nbformat"
   ]
  },
  {
   "cell_type": "code",
   "execution_count": null,
   "metadata": {},
   "outputs": [],
   "source": [
    "import json\n",
    "import pandas as pd\n",
    "import plotly.express as px"
   ]
  },
  {
   "cell_type": "code",
   "execution_count": null,
   "metadata": {},
   "outputs": [],
   "source": [
    "import geojson\n",
    "with open('C:\\Data Science\\Jupyter_Workspace\\Twitter_Sentiment\\Dash Deployment\\states_india.geojson') as f:\n",
    "    india_states = geojson.load(f)"
   ]
  },
  {
   "cell_type": "code",
   "execution_count": null,
   "metadata": {},
   "outputs": [],
   "source": [
    "india_states[\"features\"][0][\"properties\"][\"st_nm\"]"
   ]
  },
  {
   "cell_type": "code",
   "execution_count": null,
   "metadata": {},
   "outputs": [],
   "source": [
    "state_path = \"C:\\Data Science\\Jupyter_Workspace\\Twitter_Sentiment\\Data\\March27_20\\Hydrated\\mar27_state_df.csv\""
   ]
  },
  {
   "cell_type": "code",
   "execution_count": null,
   "metadata": {},
   "outputs": [],
   "source": [
    "state_df = pd.read_csv(state_path)"
   ]
  },
  {
   "cell_type": "code",
   "execution_count": null,
   "metadata": {},
   "outputs": [],
   "source": [
    "india_states[\"features\"][0][\"properties\"]"
   ]
  },
  {
   "cell_type": "code",
   "execution_count": null,
   "metadata": {},
   "outputs": [],
   "source": [
    "state_df.head(5)"
   ]
  },
  {
   "cell_type": "code",
   "execution_count": null,
   "metadata": {},
   "outputs": [],
   "source": [
    "state_id_map = {}\n",
    "for feature in india_states[\"features\"]:\n",
    "    feature[\"id\"] = feature[\"properties\"][\"st_nm\"]"
   ]
  },
  {
   "cell_type": "code",
   "execution_count": null,
   "metadata": {},
   "outputs": [],
   "source": [
    "state_df"
   ]
  },
  {
   "cell_type": "code",
   "execution_count": null,
   "metadata": {},
   "outputs": [],
   "source": [
    " import plotly.io as pio\n",
    "pio.renderers.default = 'notebook_connected'"
   ]
  },
  {
   "cell_type": "code",
   "execution_count": null,
   "metadata": {},
   "outputs": [],
   "source": [
    "pio.renderers"
   ]
  },
  {
   "cell_type": "code",
   "execution_count": null,
   "metadata": {},
   "outputs": [],
   "source": [
    "fig = px.choropleth_mapbox(state_df, \n",
    "                    locations = 'state', \n",
    "                    geojson = india_states,\n",
    "                    range_color=(-1, 1),\n",
    "                    color = 'vader_score', \n",
    "                    #hover_name = \"state\", \n",
    "                    mapbox_style = \"carto-positron\",\n",
    "                    color_continuous_scale = px.colors.diverging.RdBu, \n",
    "                    color_continuous_midpoint = 0,\n",
    "                    center = {'lat': 24, 'lon': 78}, \n",
    "                    zoom = 2.85, \n",
    "                    labels = {'vader_score': 'Sentiment Score'},\n",
    "                    title = \"Sentiment Map\")\n",
    "fig.show()"
   ]
  },
  {
   "cell_type": "markdown",
   "metadata": {},
   "source": [
    "# Experimenting"
   ]
  },
  {
   "cell_type": "code",
   "execution_count": 2,
   "metadata": {},
   "outputs": [
    {
     "data": {
      "text/html": [
       "<div>\n",
       "<style scoped>\n",
       "    .dataframe tbody tr th:only-of-type {\n",
       "        vertical-align: middle;\n",
       "    }\n",
       "\n",
       "    .dataframe tbody tr th {\n",
       "        vertical-align: top;\n",
       "    }\n",
       "\n",
       "    .dataframe thead th {\n",
       "        text-align: right;\n",
       "    }\n",
       "</style>\n",
       "<table border=\"1\" class=\"dataframe\">\n",
       "  <thead>\n",
       "    <tr style=\"text-align: right;\">\n",
       "      <th></th>\n",
       "      <th>state</th>\n",
       "      <th>vader_score</th>\n",
       "      <th>date</th>\n",
       "    </tr>\n",
       "  </thead>\n",
       "  <tbody>\n",
       "    <tr>\n",
       "      <th>0</th>\n",
       "      <td>Andhra Pradesh</td>\n",
       "      <td>0.064054</td>\n",
       "      <td>20200320</td>\n",
       "    </tr>\n",
       "    <tr>\n",
       "      <th>1</th>\n",
       "      <td>Arunanchal Pradesh</td>\n",
       "      <td>-0.231850</td>\n",
       "      <td>20200320</td>\n",
       "    </tr>\n",
       "    <tr>\n",
       "      <th>2</th>\n",
       "      <td>Assam</td>\n",
       "      <td>-0.655828</td>\n",
       "      <td>20200320</td>\n",
       "    </tr>\n",
       "    <tr>\n",
       "      <th>3</th>\n",
       "      <td>Bihar</td>\n",
       "      <td>0.123923</td>\n",
       "      <td>20200320</td>\n",
       "    </tr>\n",
       "    <tr>\n",
       "      <th>4</th>\n",
       "      <td>Chhattisgarh</td>\n",
       "      <td>0.223450</td>\n",
       "      <td>20200320</td>\n",
       "    </tr>\n",
       "    <tr>\n",
       "      <th>...</th>\n",
       "      <td>...</td>\n",
       "      <td>...</td>\n",
       "      <td>...</td>\n",
       "    </tr>\n",
       "    <tr>\n",
       "      <th>140</th>\n",
       "      <td>Tamil Nadu</td>\n",
       "      <td>0.224433</td>\n",
       "      <td>20200501</td>\n",
       "    </tr>\n",
       "    <tr>\n",
       "      <th>141</th>\n",
       "      <td>Telangana</td>\n",
       "      <td>0.272925</td>\n",
       "      <td>20200501</td>\n",
       "    </tr>\n",
       "    <tr>\n",
       "      <th>142</th>\n",
       "      <td>Uttar Pradesh</td>\n",
       "      <td>0.267152</td>\n",
       "      <td>20200501</td>\n",
       "    </tr>\n",
       "    <tr>\n",
       "      <th>143</th>\n",
       "      <td>Uttarakhand</td>\n",
       "      <td>0.631180</td>\n",
       "      <td>20200501</td>\n",
       "    </tr>\n",
       "    <tr>\n",
       "      <th>144</th>\n",
       "      <td>West Bengal</td>\n",
       "      <td>0.076367</td>\n",
       "      <td>20200501</td>\n",
       "    </tr>\n",
       "  </tbody>\n",
       "</table>\n",
       "<p>145 rows × 3 columns</p>\n",
       "</div>"
      ],
      "text/plain": [
       "                  state  vader_score      date\n",
       "0        Andhra Pradesh     0.064054  20200320\n",
       "1    Arunanchal Pradesh    -0.231850  20200320\n",
       "2                 Assam    -0.655828  20200320\n",
       "3                 Bihar     0.123923  20200320\n",
       "4          Chhattisgarh     0.223450  20200320\n",
       "..                  ...          ...       ...\n",
       "140          Tamil Nadu     0.224433  20200501\n",
       "141           Telangana     0.272925  20200501\n",
       "142       Uttar Pradesh     0.267152  20200501\n",
       "143         Uttarakhand     0.631180  20200501\n",
       "144         West Bengal     0.076367  20200501\n",
       "\n",
       "[145 rows x 3 columns]"
      ]
     },
     "execution_count": 2,
     "metadata": {},
     "output_type": "execute_result"
    }
   ],
   "source": [
    "import pandas as pd\n",
    "path = \"C:\\Data Science\\Jupyter_Workspace\\Twitter_Sentiment\\Data\\JSONLs\\\\final_df.csv\"\n",
    "df = pd.read_csv(path)\n",
    "df"
   ]
  },
  {
   "cell_type": "code",
   "execution_count": 4,
   "metadata": {},
   "outputs": [
    {
     "data": {
      "text/plain": [
       "'Andhra Pradesh'"
      ]
     },
     "execution_count": 4,
     "metadata": {},
     "output_type": "execute_result"
    }
   ],
   "source": [
    "dff = df.copy()\n",
    "dff = dff[dff[\"date\"] == 20200327]\n",
    "message = dff[\"state\"].iloc[0]\n",
    "message"
   ]
  },
  {
   "cell_type": "code",
   "execution_count": null,
   "metadata": {},
   "outputs": [],
   "source": []
  }
 ],
 "metadata": {
  "interpreter": {
   "hash": "d65ed39dd581ebcf9df35782933087a7829422d005b2b32c58247ec95bc3be21"
  },
  "kernelspec": {
   "display_name": "Python 3.7.6 64-bit ('base': conda)",
   "name": "python3"
  },
  "language_info": {
   "codemirror_mode": {
    "name": "ipython",
    "version": 3
   },
   "file_extension": ".py",
   "mimetype": "text/x-python",
   "name": "python",
   "nbconvert_exporter": "python",
   "pygments_lexer": "ipython3",
   "version": "3.7.6"
  },
  "orig_nbformat": 4
 },
 "nbformat": 4,
 "nbformat_minor": 2
}
